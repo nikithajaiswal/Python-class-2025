{
 "cells": [
  {
   "cell_type": "markdown",
   "id": "d4c1c9ed",
   "metadata": {},
   "source": [
    "Defining and Calling Functions\n",
    "A function is a block of reusable code that performs a specific task.\n",
    "A function is a block of organized, reusable code that performs a single, related action. Functions provide better modularity for your application and a high degree of code reusing."
   ]
  },
  {
   "cell_type": "code",
   "execution_count": null,
   "id": "17b2a88c",
   "metadata": {},
   "outputs": [
    {
     "name": "stdout",
     "output_type": "stream",
     "text": [
      "Hello, 10!\n"
     ]
    },
    {
     "ename": "",
     "evalue": "",
     "output_type": "error",
     "traceback": [
      "\u001b[1;31mThe Kernel crashed while executing code in the current cell or a previous cell. \n",
      "\u001b[1;31mPlease review the code in the cell(s) to identify a possible cause of the failure. \n",
      "\u001b[1;31mClick <a href='https://aka.ms/vscodeJupyterKernelCrash'>here</a> for more info. \n",
      "\u001b[1;31mView Jupyter <a href='command:jupyter.viewOutput'>log</a> for further details."
     ]
    }
   ],
   "source": [
    "def greet(num):\n",
    "    \"\"\"This function greets the person passed in as parameter\"\"\"\n",
    "    print(f\"Hello, {num}!\")\n",
    "greet(10)  # Output: Hello, Alice!"
   ]
  },
  {
   "cell_type": "markdown",
   "id": "e1cc57d4",
   "metadata": {},
   "source": [
    "Parameters: Parameters are the variables listed inside the parentheses in the function definition"
   ]
  },
  {
   "cell_type": "code",
   "execution_count": null,
   "id": "4690a843",
   "metadata": {},
   "outputs": [],
   "source": [
    "def add_numbers(a, b):  # a and b are parameters\n",
    "    return a + b"
   ]
  },
  {
   "cell_type": "markdown",
   "id": "754550f4",
   "metadata": {},
   "source": []
  },
  {
   "cell_type": "markdown",
   "id": "9fec97d2",
   "metadata": {},
   "source": [
    "When to Use Each Type\n",
    "Positional: When the order is obvious and fixed\n",
    "\n",
    "Keyword: For clarity or to skip optional parameters\n",
    "\n",
    "Default: For parameters that often have the same value\n",
    "\n",
    "*args: When you need to accept any number of positional args\n",
    "\n",
    "**kwargs: When you need to accept any number of keyword args\n",
    "Remember that Python evaluates arguments in this order:\n",
    "\n",
    "Positional arguments\n",
    "\n",
    "Keyword arguments\n",
    "\n",
    "Default arguments\n",
    "\n",
    "*args\n",
    "\n",
    "**kwargs"
   ]
  }
 ],
 "metadata": {
  "kernelspec": {
   "display_name": ".venev",
   "language": "python",
   "name": "python3"
  },
  "language_info": {
   "codemirror_mode": {
    "name": "ipython",
    "version": 3
   },
   "file_extension": ".py",
   "mimetype": "text/x-python",
   "name": "python",
   "nbconvert_exporter": "python",
   "pygments_lexer": "ipython3",
   "version": "3.13.1"
  }
 },
 "nbformat": 4,
 "nbformat_minor": 5
}
