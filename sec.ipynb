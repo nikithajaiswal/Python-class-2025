{
 "cells": [
  {
   "cell_type": "markdown",
   "id": "4b012e98",
   "metadata": {},
   "source": [
    "Data Structures\t\n",
    "Lists\tIndexing, Slicing, ALL List Methods\n",
    "\n",
    "List items are ordered, changeable and allow duplicates and it is enclosed with []\n",
    "Lists are zero-indexed (first element is at 0).\n",
    "Negative indices count from the end (-1 = last element from right to left).\n",
    "eg : my_list = [10, 20, 30, 40, 50]\n",
    "               [0,   1,  2,  3,  4]\n",
    "               [-5, -4, -3, -2, -1]\n",
    "               error if the index is out of range\n",
    "            "
   ]
  },
  {
   "cell_type": "markdown",
   "id": "6046b0b7",
   "metadata": {},
   "source": [
    "Slicing\n",
    "list[start:stop:step]\n",
    "nums = [0, 1, 2, 3, 4, 5, 6, 7, 8, 9]\n",
    "\n",
    "print(nums[2:5])    # [2, 3, 4] (from index 2 to 4)\n",
    "print(nums[:4])     # [0, 1, 2, 3] (start to 3)\n",
    "print(nums[5:])     # [5, 6, 7, 8, 9] (5 to end)\n",
    "print(nums[::2])    # [0, 2, 4, 6, 8] (every 2nd element)\n",
    "print(nums[::-1])   # [9, 8, 7, ..., 0] (reverse list)\n"
   ]
  },
  {
   "cell_type": "code",
   "execution_count": null,
   "id": "b85e7843",
   "metadata": {},
   "outputs": [
    {
     "name": "stdout",
     "output_type": "stream",
     "text": [
      "['apple', 'orange', 'grapes', 'cherry']\n"
     ]
    }
   ],
   "source": [
    "#access items\n",
    "# a =['apple','orange','grapes', 'cherry']\n",
    "# print(a[0])\n",
    "\n",
    "# changing items\n",
    "# a =['apple','orange','grapes', 'cherry']\n",
    "# a[3]='python'\n",
    "# print(a)\n",
    "# adding items\n",
    "# a =['apple','orange','grapes', 'cherry']\n",
    "# a.append('python')\n",
    "# print(a)\n",
    "# #inserting items\n",
    "# a =['apple','orange','grapes', 'cherry']\n",
    "# a.insert(1,'python')\n",
    "# print(a)\n",
    "# extend items\n",
    "# a=['apple','orange','grapes', 'cherry']\n",
    "# b =[1,2,3,4,]\n",
    "# b.extend(a)\n",
    "# print(b)\n",
    "# remove items\n",
    "# a=['apple','orange','grapes', 'cherry']\n",
    "# a.remove(a[1]) #or a.remove('orange')\n",
    "# print(a)\n",
    "#pop items\n",
    "# a=['apple','orange','grapes', 'cherry']\n",
    "# a.pop(1)\n",
    "# print(a)\n",
    "#clear items\n",
    "# a=['apple','orange','grapes', 'cherry']\n",
    "# a.clear()\n",
    "# print(a)\n",
    "# delete items\n",
    "# a=['apple','orange','grapes', 'cherry']\n",
    "# del a\n",
    "# print(a)\n",
    "# sorting items\n",
    "# a=['apple','orange','grapes', 'cherry']\n",
    "# a.sort() or a.sort(reverse=True)\n",
    "# print(a)\n",
    "# # copy items\n",
    "# a=['apple','orange','grapes', 'cherry']\n",
    "# b=a.copy()\n",
    "# print(b)\n",
    "\n",
    "\n"
   ]
  },
  {
   "cell_type": "markdown",
   "id": "c8300296",
   "metadata": {},
   "source": [
    "\n",
    "Tuples\tImmutability, Packing & Unpacking\n",
    "tuples: Items are ordered, unchangeable (cannot be modified after creation).and allow duplicates and it is enclosed in ()round brackets\n",
    "\n",
    "Immutability: Once created, elements cannot be added, removed, or modified.\n",
    "eg:\n",
    "a = (1, 2, 3)\n",
    "a[0] = 10  # TypeError: 'tuple' object does not support item assignment\n",
    " \n",
    "we can modify after changing the datatype to list"
   ]
  },
  {
   "cell_type": "code",
   "execution_count": 7,
   "id": "65f03d8d",
   "metadata": {},
   "outputs": [
    {
     "name": "stdout",
     "output_type": "stream",
     "text": [
      "grapes\n"
     ]
    }
   ],
   "source": [
    "# a= ('apple','orange','grapes', 'cherry')\n",
    "# b= list(a)\n",
    "# b.append('Python')\n",
    "# a=tuple(b)\n",
    "# print(a)\n",
    "\n",
    "# Packing:\n",
    "# many value to multiple variables\n",
    "# a, b, c, d = ('apple','orange','grapes', 'cherry')\n",
    "# print(a)\n",
    "# one value to multiple variables\n",
    "# a = b= c= d = 'apple'\n",
    "# print(c)\n",
    "\n",
    "# Unpacking: Extracting tuple elements into individual variables.\n",
    "packed = ('apple','orange','grapes', 'cherry')\n",
    "a, b,c,d = packed \n",
    "print(c)\n",
    "\n"
   ]
  },
  {
   "cell_type": "markdown",
   "id": "b6e5acce",
   "metadata": {},
   "source": [
    "Scope of Variables:\n",
    "\n",
    "In programming, the scope of a variable refers to the region of the code where the variable is defined and can be accessed.\n",
    "\n",
    "Local Variables: \n",
    "\n",
    "Local variables are defined within a function or a block of code and are only accessible within that scope.\n"
   ]
  },
  {
   "cell_type": "code",
   "execution_count": null,
   "id": "3622a2a7",
   "metadata": {},
   "outputs": [],
   "source": [
    "def my_function():\n",
    "    x = 10  # local variable\n",
    "    print(x)\n",
    "\n",
    "my_function()  # Output: 10\n"
   ]
  },
  {
   "cell_type": "markdown",
   "id": "eff61c56",
   "metadata": {},
   "source": [
    "Global Variables: \n",
    "\n",
    "Global variables are defined outside of any function or block of code and are accessible from anywhere in the program.\n"
   ]
  },
  {
   "cell_type": "code",
   "execution_count": null,
   "id": "36c6ccc8",
   "metadata": {},
   "outputs": [],
   "source": [
    "x = 10  # global variable\n",
    "\n",
    "def my_function():\n",
    "    print(x)\n",
    "\n",
    "my_function()  # Output: 10\n",
    "print(x)  # Output: 10"
   ]
  },
  {
   "cell_type": "markdown",
   "id": "f0156f89",
   "metadata": {},
   "source": [
    "Global Keyword: \n",
    "\n",
    "The global keyword is used to declare a variable as global within a function. This allows the function to modify the global variable."
   ]
  },
  {
   "cell_type": "code",
   "execution_count": null,
   "id": "0e369d8b",
   "metadata": {},
   "outputs": [],
   "source": [
    "x = 10  # global variable\n",
    "\n",
    "def my_function():\n",
    "    global x\n",
    "    x = 20\n",
    "    print(x)\n",
    "\n",
    "my_function()  # Output: 20\n",
    "print(x)  # Output: 20"
   ]
  },
  {
   "cell_type": "markdown",
   "id": "eebd6c8f",
   "metadata": {},
   "source": [
    "Nonlocal Keyword: \n",
    "\n",
    "The nonlocal keyword is used to declare a variable as nonlocal within a nested function. This allows the inner function to modify the variable from the outer function."
   ]
  },
  {
   "cell_type": "code",
   "execution_count": null,
   "id": "b8590b65",
   "metadata": {},
   "outputs": [],
   "source": [
    "def outer_function():\n",
    "    x = 10  # nonlocal variable\n",
    "\n",
    "    def inner_function():\n",
    "        nonlocal x\n",
    "        x = 20\n",
    "        print(x)\n",
    "\n",
    "    inner_function()\n",
    "    print(x)\n",
    "\n",
    "outer_function()  # Output: 20, 20"
   ]
  },
  {
   "cell_type": "markdown",
   "id": "0cfdd1ec",
   "metadata": {},
   "source": [
    "Case Statements (Pattern Matching):\n",
    "\n",
    "Python 3.10 introduced structural pattern matching (case statements), which provides a more powerful alternative to traditional if-elif-else chains."
   ]
  },
  {
   "cell_type": "code",
   "execution_count": null,
   "id": "53ef8454",
   "metadata": {},
   "outputs": [],
   "source": [
    "def http_status(status):\n",
    "    match status:\n",
    "        case 200:\n",
    "            return \"OK\"\n",
    "        case 400:\n",
    "            return \"Bad Request\"\n",
    "        case 404:\n",
    "            return \"Not Found\"\n",
    "        case _:\n",
    "            return \"Unknown\"\n",
    "\n",
    "print(http_status(200))  # Output: OK\n",
    "print(http_status(400))  # Output: Bad Request\n",
    "print(http_status(404))  # Output: Not Found\n",
    "print(http_status(500))  # Output: Unknown\n",
    "\n",
    "\n",
    "# In earlier versions of Python, you can use dictionaries to achieve similar behavior:\n",
    "\n",
    "\n",
    "def http_status(status):\n",
    "    status_codes = {\n",
    "        200: \"OK\",\n",
    "        400: \"Bad Request\",\n",
    "        404: \"Not Found\"\n",
    "    }\n",
    "    return status_codes.get(status, \"Unknown\")\n",
    "\n",
    "print(http_status(200))  # Output: OK\n",
    "print(http_status(400))  # Output: Bad Request\n",
    "print(http_status(404))  # Output: Not Found\n",
    "print(http_status(500))  # Output: Unknown\n",
    "\n",
    "# Variables assigned within a case block are local to the entire match statement (function scope)\n",
    "\n",
    "# Patterns can introduce new variables that are scoped to the case block"
   ]
  },
  {
   "cell_type": "markdown",
   "id": "e3a28b30",
   "metadata": {},
   "source": [
    "Lambda Functions: \n",
    "Lambda functions (also called anonymous functions) are small, single-expression functions that are defined without a name. They are often used for short, simple operations where a full function definition would be unnecessary.\n",
    "\n",
    "Python also provides built-in functions like map(), filter(), and reduce() (from functools) that work well with lambda functions for functional programming-style operations.But lambda functions are shorter and more concise.\n",
    "<!-- Syntax: -->\n",
    "<!-- lambda arguments: expression -->\n",
    "\n",
    "lambda: Keyword to define an anonymous function.\n",
    "\n",
    "arguments: Input parameters (like in a regular function).\n",
    "\n",
    "expression: A single expression that is evaluated and returned.\n",
    "use case:\n",
    "Lambda functions are often used when you need a small, short function that's used immediately and then discarded. They're commonly used with functions like map(), filter(), and reduce()."
   ]
  },
  {
   "cell_type": "code",
   "execution_count": null,
   "id": "cdeb98a1",
   "metadata": {},
   "outputs": [
    {
     "name": "stdout",
     "output_type": "stream",
     "text": [
      "12\n"
     ]
    }
   ],
   "source": [
    "# Simple Lambda Function\n",
    "add_two = lambda x: x + 2\n",
    "print(add_two(10))  # Output: 5\n",
    "\n",
    "# # 2. Lambda Function with Multiple Arguments\n",
    "\n",
    "sum_numbers = lambda x, y: x + y\n",
    "print(sum_numbers(5, 10))  # Output: 15\n",
    "\n",
    "# # 3. Lambda Function with Default Argument Values\n",
    "\n",
    "greet = lambda name = 'World': f'Hello, {name}!'\n",
    "print(greet())  # Output: Hello, World!\n",
    "print(greet('John'))  # Output: Hello, John!"
   ]
  },
  {
   "cell_type": "code",
   "execution_count": null,
   "id": "9688bca2",
   "metadata": {},
   "outputs": [
    {
     "name": "stdout",
     "output_type": "stream",
     "text": [
      "<map object at 0x000001D54F6AB6D0>\n",
      "[1, 4, 9, 16]\n"
     ]
    }
   ],
   "source": [
    "# map(function, iterable)\n",
    "# Applies a function to all items in an iterable (list, tuple, etc.) and returns a map object (iterator).\n",
    "\n",
    "numbers = [1, 2, 3, 4]\n",
    "squared = map(lambda x: x**2, numbers)\n",
    "print(list(squared))  # Output: [1, 4, 9, 16]"
   ]
  },
  {
   "cell_type": "code",
   "execution_count": null,
   "id": "ea28f69b",
   "metadata": {},
   "outputs": [],
   "source": [
    "# filter(function, iterable):\n",
    "\n",
    "# Filters elements from an iterable based on a function that returns True or False.\n",
    "numbers = [1, 2, 3, 4, 5, 6]\n",
    "evens = filter(lambda x: x % 2 == 0, numbers)\n",
    "print(list(evens))  # Output: [2, 4, 6]"
   ]
  },
  {
   "cell_type": "code",
   "execution_count": null,
   "id": "d7425890",
   "metadata": {},
   "outputs": [],
   "source": []
  },
  {
   "cell_type": "code",
   "execution_count": null,
   "id": "a8944237",
   "metadata": {},
   "outputs": [
    {
     "name": "stdout",
     "output_type": "stream",
     "text": [
      "24\n"
     ]
    }
   ],
   "source": [
    "# reduce(function, iterable[, initializer]):\n",
    "\n",
    "# Applies a function cumulatively to the items of an iterable, reducing it to a single value. (Note: In Python 3, reduce() is in the functools module.)\n",
    "\n",
    "from functools import reduce\n",
    "\n",
    "numbers = [1, 2, 3, 4]\n",
    "product = reduce(lambda x, y: x * y, numbers)\n",
    "print(product)  # Output: 24 (1*2=2, 2*3=6, 6*4=24)\n",
    "\n",
    "# this is with normal function\n",
    "\n",
    "# from functools import reduce\n",
    "\n",
    "# def multiply(x, y):\n",
    "#     return x * y\n",
    "\n",
    "# numbers = [1, 2, 3, 4]\n",
    "# product = reduce(multiply, numbers)\n",
    "\n",
    "# print(product)  # Output: 24\n",
    "\n"
   ]
  },
  {
   "cell_type": "markdown",
   "id": "5b905a86",
   "metadata": {},
   "source": [
    "Performance Considerations\n",
    "Lambda functions are generally slightly slower than named functions but the difference is negligible for most use cases\n",
    "\n",
    "map() and filter() return iterators, which are memory efficient (they generate values on demand)\n",
    "\n",
    "reduce() processes the entire iterable at once, which can be memory intensive for large datasets"
   ]
  },
  {
   "cell_type": "markdown",
   "id": "83120535",
   "metadata": {},
   "source": [
    "Sets are one of Python's four built-in data types for storing collections of data. They are:\n",
    "\n",
    "Unordered: Elements have no defined order\n",
    "\n",
    "Unindexed: Cannot access elements by index\n",
    "\n",
    "Mutable: Can add/remove elements\n",
    "\n",
    "Unique: No duplicate elements allowed and enclosed with curly brackets\n",
    "my_set = {1, 2, 3}"
   ]
  },
  {
   "cell_type": "code",
   "execution_count": null,
   "id": "952811be",
   "metadata": {},
   "outputs": [],
   "source": [
    "# access Items:\n",
    "\n",
    "a= {'apple','cherry', 'orange', 'lemon'}\n",
    "for i in a:\n",
    "    print(i)\n",
    "    # cant for loop to iterate\n",
    "\n",
    "# adding item \n",
    "a= {'apple','cherry', 'orange', 'lemon'}\n",
    "a.add('one')\n",
    "print(a)\n",
    "\n",
    "# Update items\n",
    "a= {'apple','cherry', 'orange', 'lemon'}\n",
    "b = {1,2,3,4}\n",
    "a.update(b)\n",
    "print(a)\n",
    "\n",
    "# remove items two methods:\n",
    "a= {'apple','cherry', 'orange', 'lemon'}\n",
    "a.remove('apple')\n",
    "a.discard(\"cherry\")\n",
    "print(a)\n",
    "\n",
    "# pop Items: it remove random item if no index is given\n",
    "a= {'apple','cherry', 'orange', 'lemon'}\n",
    "a.pop()\n",
    "print(a)\n",
    "\n",
    "\n",
    "# clear items\n",
    "a= {'apple','cherry', 'orange', 'lemon'}\n",
    "a.clear()\n",
    "print(a)\n",
    "\n"
   ]
  },
  {
   "cell_type": "markdown",
   "id": "86847758",
   "metadata": {},
   "source": [
    "Datatypes dictionary\n",
    "Items are ordered, changeable, do not allow duplicates. Its a key: value pair and it is enclosed within {}"
   ]
  },
  {
   "cell_type": "code",
   "execution_count": null,
   "id": "c2d5d857",
   "metadata": {},
   "outputs": [],
   "source": [
    "a ={ 'name':'python',\n",
    "    'year': 2025,\n",
    "    'batch':'second'\n",
    "    }\n",
    "print(a)\n",
    "\n",
    "# If the two keys are same name it will print latest were duplicates are not allow. If any duplicate keys the lastest key will be print \n"
   ]
  },
  {
   "cell_type": "code",
   "execution_count": null,
   "id": "bd2e1c37",
   "metadata": {},
   "outputs": [],
   "source": [
    "# access the items\n",
    "a ={ 'name':'python',\n",
    "    'year': 2025,\n",
    "    'batch':'second'\n",
    "    }\n",
    "# b=a['name']\n",
    "b=a.get(name)\n",
    "print(b)\n"
   ]
  },
  {
   "cell_type": "code",
   "execution_count": 9,
   "id": "b0f75b9b",
   "metadata": {},
   "outputs": [
    {
     "name": "stdout",
     "output_type": "stream",
     "text": [
      "dict_keys(['name', 'year', 'batch'])\n"
     ]
    }
   ],
   "source": [
    "# Access only key and value\n",
    "a ={ 'name':'python',\n",
    "    'year': 2025,\n",
    "    'batch':'second'\n",
    "    }\n",
    "# b=a.keys()\n",
    "# print(b)\n",
    "print(a.keys())"
   ]
  },
  {
   "cell_type": "code",
   "execution_count": 10,
   "id": "e05430cb",
   "metadata": {},
   "outputs": [
    {
     "name": "stdout",
     "output_type": "stream",
     "text": [
      "{'name': 'python', 'year': 2025, 'batch': 'second', 'color': 'red'}\n"
     ]
    }
   ],
   "source": [
    "# add items:\n",
    "a ={ 'name':'python',\n",
    "    'year': 2025,\n",
    "    'batch':'second'\n",
    "    }\n",
    "a['color']='red'\n",
    "print(a)"
   ]
  },
  {
   "cell_type": "code",
   "execution_count": 11,
   "id": "33423960",
   "metadata": {},
   "outputs": [
    {
     "name": "stdout",
     "output_type": "stream",
     "text": [
      "{'name': 'python', 'year': 2025, 'batch': 'third'}\n"
     ]
    }
   ],
   "source": [
    "# change value:\n",
    "a ={ 'name':'python',\n",
    "    'year': 2025,\n",
    "    'batch':'second'\n",
    "    }\n",
    "a['batch']='third'\n",
    "print(a)\n"
   ]
  },
  {
   "cell_type": "code",
   "execution_count": 12,
   "id": "cbd94ec7",
   "metadata": {},
   "outputs": [
    {
     "name": "stdout",
     "output_type": "stream",
     "text": [
      "{'year': 2025, 'batch': 'second'}\n"
     ]
    }
   ],
   "source": [
    "# Remove items /In dictionary remove concept does not work pop is used\n",
    "a ={ 'name':'python',\n",
    "    'year': 2025,\n",
    "    'batch':'second'\n",
    "    }\n",
    "a.pop('name')  #a.popitem()removes last item\n",
    "print(a)"
   ]
  },
  {
   "cell_type": "code",
   "execution_count": null,
   "id": "665d0847",
   "metadata": {},
   "outputs": [],
   "source": [
    "# Clear dictionary\n",
    "a ={ 'name':'python',\n",
    "    'year': 2025,\n",
    "    'batch':'second'\n",
    "    }\n",
    "a.clear()\n",
    "print(a)"
   ]
  },
  {
   "cell_type": "code",
   "execution_count": 17,
   "id": "d8864287",
   "metadata": {},
   "outputs": [
    {
     "name": "stdout",
     "output_type": "stream",
     "text": [
      "{'class_a': 2, 'sub_a': 'Science'}\n"
     ]
    }
   ],
   "source": [
    "# Nested dictionary\n",
    "\n",
    "one= {\n",
    "    'std_1':{\n",
    "        'class':1,\n",
    "        'sub':'english'\n",
    "    },\n",
    "    'std_2':{\n",
    "        'class_a':2,\n",
    "        'sub_a': 'Science'\n",
    "    },\n",
    "    'std_3':{\n",
    "        'class_b': 3,\n",
    "        'sub_c': 'maths'\n",
    "    }}\n",
    "\n",
    "# print(one)\n",
    "# to access\n",
    "\n",
    "c= one['std_2']['sub_a']\n",
    "print(c)\n"
   ]
  },
  {
   "cell_type": "code",
   "execution_count": 21,
   "id": "347c8bc8",
   "metadata": {},
   "outputs": [
    {
     "name": "stdout",
     "output_type": "stream",
     "text": [
      "name: Alice\n",
      "age: 30\n",
      "job: Engineer\n"
     ]
    }
   ],
   "source": [
    "# The **kwargs Parameter\n",
    "# **kwargs allows a function to accept any number of keyword arguments, which are collected into a dictionary.\n",
    "# How it works:\n",
    "# The double asterisk (**) unpacks keyword arguments\n",
    "\n",
    "# Arguments are collected into a dictionary\n",
    "\n",
    "# Parameter name must be kwargs by convention (but the ** is what matters)\n",
    "\n",
    "def person(**kwargs):\n",
    "    for key, value in kwargs.items():\n",
    "        print(f\"{key}: {value}\")\n",
    "\n",
    "person(name='Alice', age=30, job='Engineer')\n"
   ]
  },
  {
   "cell_type": "code",
   "execution_count": null,
   "id": "c72cbe6a",
   "metadata": {},
   "outputs": [],
   "source": [
    "def example_func(required, *args, **kwargs):\n",
    "    print(f\"Required: {required}\")\n",
    "    print(f\"Args: {args}\")\n",
    "    print(f\"Kwargs: {kwargs}\")\n",
    "\n",
    "example_func('hello', 1, 2, 3, key1='value1', key2='value2')"
   ]
  },
  {
   "cell_type": "markdown",
   "id": "88754263",
   "metadata": {},
   "source": [
    "String Basics, String Indexing & Slicing, len()\n",
    "String Basics\n",
    "\n",
    "In Python, a string is a sequence of characters enclosed in quotes (single, double, or triple quotes). \n",
    "Strings are immutable, meaning they cannot be changed after creation."
   ]
  },
  {
   "cell_type": "code",
   "execution_count": null,
   "id": "a0046449",
   "metadata": {},
   "outputs": [],
   "source": [
    "name = \"Alice\"\n",
    "quote = 'Hello, World!'"
   ]
  },
  {
   "cell_type": "markdown",
   "id": "fea457d3",
   "metadata": {},
   "source": [
    "String Indexing\n",
    "\n",
    "String indexing allows you to access individual characters in a string. \n",
    "Indexing starts at 0, meaning the first character is at index 0.\n",
    "String:     A   l   i   c   e\n",
    "Index:      0   1   2   3   4\n",
    "Negative:  -5  -4  -3  -2  -1\n"
   ]
  },
  {
   "cell_type": "code",
   "execution_count": null,
   "id": "4383afed",
   "metadata": {},
   "outputs": [],
   "source": [
    "name = \"Alice\"\n",
    "print(name[0])    \n",
    "print(name[-1])   \n"
   ]
  },
  {
   "cell_type": "markdown",
   "id": "b03eafdf",
   "metadata": {},
   "source": [
    "String slicing allows you to extract a subset of characters from a string. The syntax is my_string[start:stop:step].\n",
    "\n",
    "start: The starting index (inclusive).\n",
    "stop: The ending index (exclusive).\n",
    "step: The increment between indices (default is 1)."
   ]
  },
  {
   "cell_type": "code",
   "execution_count": null,
   "id": "32f0cfaf",
   "metadata": {},
   "outputs": [],
   "source": [
    "name = \"Alice\"\n",
    "print(name[1:4])   # Output: lic (starts from index 1, ends before index 4)\n",
    "print(name[:3])    # Output: Ali (from start to index 3)\n",
    "print(name[2:])    # Output: ice (from index 2 to end)"
   ]
  },
  {
   "cell_type": "code",
   "execution_count": null,
   "id": "7274d495",
   "metadata": {},
   "outputs": [
    {
     "name": "stdout",
     "output_type": "stream",
     "text": [
      "11\n"
     ]
    }
   ],
   "source": [
    "# len():The len() function returns the length (number of characters) in a string.\n",
    "\n",
    "text = \"Hello world\"\n",
    "print(len(text))  # it will count from the start of the quotes till the end of the quotes it will count the len  \n",
    " "
   ]
  },
  {
   "cell_type": "markdown",
   "id": "c730ac3f",
   "metadata": {},
   "source": [
    "b. String Methods\n",
    "These are built-in functions to work with strings. Let’s go through each one:\n",
    " upper()\n",
    "Converts all characters to uppercase.\n"
   ]
  },
  {
   "cell_type": "code",
   "execution_count": null,
   "id": "a2ca0c6c",
   "metadata": {},
   "outputs": [
    {
     "name": "stdout",
     "output_type": "stream",
     "text": [
      "HELLO WORLD\n"
     ]
    }
   ],
   "source": [
    "text = \"hello world\"\n",
    "print(text.upper())  \n"
   ]
  },
  {
   "cell_type": "code",
   "execution_count": null,
   "id": "6ca680a2",
   "metadata": {},
   "outputs": [],
   "source": [
    "# lower()\n",
    "# Converts all characters to lowercase.\n",
    "text = \"HELLO WORLD\"\n",
    "print(text.lower())  \n",
    "\n"
   ]
  },
  {
   "cell_type": "code",
   "execution_count": null,
   "id": "165f2011",
   "metadata": {},
   "outputs": [],
   "source": [
    "# strip()\n",
    "# Removes leading and trailing whitespaces (or characters, if specified).\n",
    "\n",
    "text = \"   Hello   \"\n",
    "print(text.strip())  \n",
    "\n",
    "# With specific character\n",
    "txt = \"xxHello Worldxx\"\n",
    "print(txt.strip('x'))  \n"
   ]
  },
  {
   "cell_type": "code",
   "execution_count": null,
   "id": "fac25f3b",
   "metadata": {},
   "outputs": [],
   "source": [
    "# find()\n",
    "# Returns the index of the first occurrence of a substring. Returns -1 if not found.\n",
    "\n",
    "text = \"Hello World\"\n",
    "print(text.find(\"World\"))  \n",
    "print(text.find(\"Python\")) \n"
   ]
  },
  {
   "cell_type": "code",
   "execution_count": null,
   "id": "51dba1a5",
   "metadata": {},
   "outputs": [],
   "source": [
    "# replace()\n",
    "# Replaces all occurrences of a substring with another substring.\n",
    "\n",
    "text = \"I like apples\"\n",
    "print(text.replace(\"apples\", \"bananas\"))  \n"
   ]
  },
  {
   "cell_type": "code",
   "execution_count": null,
   "id": "83105027",
   "metadata": {},
   "outputs": [],
   "source": [
    "# split()\n",
    "# Splits a string into a list of substrings based on a separator (default is space).\n",
    "\n",
    "text = \"one two three\"\n",
    "print(text.split())  "
   ]
  },
  {
   "cell_type": "code",
   "execution_count": null,
   "id": "70f80ff2",
   "metadata": {},
   "outputs": [],
   "source": [
    "# join()\n",
    "# Joins elements of a list into a string using a separator.\n",
    "\n",
    "words = ['Python', 'is', 'fun']\n",
    "print(\" \".join(words))  # Output: Python is fun\n",
    "\n",
    "items = ['1', '2', '3']\n",
    "print(\"-\".join(items))  # Output: 1-2-3"
   ]
  },
  {
   "cell_type": "markdown",
   "id": "adc14513",
   "metadata": {},
   "source": [
    "looping through strings, tuples, list, tuples, dictationary\n",
    "\n",
    "Looping through string:\n",
    "\n",
    "A string is a sequence of characters. So, when you loop through a string, you're looping through each character."
   ]
  },
  {
   "cell_type": "code",
   "execution_count": null,
   "id": "194374d1",
   "metadata": {},
   "outputs": [],
   "source": [
    "text = \"hello\"\n",
    "\n",
    "for i in text:\n",
    "    print(i)\n",
    "\n"
   ]
  },
  {
   "cell_type": "markdown",
   "id": "5644f484",
   "metadata": {},
   "source": [
    "Looping through Lists: \n",
    "\n",
    "A list is a collection of items (can be strings, numbers, etc.)."
   ]
  },
  {
   "cell_type": "code",
   "execution_count": null,
   "id": "53ffdec5",
   "metadata": {},
   "outputs": [],
   "source": [
    "fruits = [\"apple\", \"banana\", \"cherry\"]\n",
    "\n",
    "for fruit in fruits:\n",
    "    print(fruit)\n"
   ]
  },
  {
   "cell_type": "markdown",
   "id": "93075678",
   "metadata": {},
   "source": [
    "Looping through Tuples:\n",
    "\n",
    "A tuple is similar to a list, but it is immutable (cannot be changed). Looping is exactly the same as a list."
   ]
  },
  {
   "cell_type": "code",
   "execution_count": null,
   "id": "567d178e",
   "metadata": {},
   "outputs": [],
   "source": [
    "colors = (\"red\", \"green\", \"blue\")\n",
    "\n",
    "for color in colors:\n",
    "    print(color)\n"
   ]
  },
  {
   "cell_type": "code",
   "execution_count": null,
   "id": "71e7d486",
   "metadata": {},
   "outputs": [],
   "source": [
    "#  Looping through Dictionaries\n",
    "\n",
    "# A dictionary stores data in key-value pairs.\n",
    "\n",
    "student = {\n",
    "    \"name\": \"Alice\",\n",
    "    \"age\": 20,\n",
    "    \"grade\": \"A\"\n",
    "}\n",
    "\n",
    "# You can loop in different ways:\n",
    "# Loop through keys (default):\n",
    "\n",
    "for key in student:\n",
    "    print(key)  # Only keys\n",
    "\n",
    "    # Loop through values:\n",
    "for value in student.values():\n",
    "    print(value)\n",
    "# Loop through key-value pairs:\n",
    "\n",
    "\n"
   ]
  }
 ],
 "metadata": {
  "kernelspec": {
   "display_name": ".venev",
   "language": "python",
   "name": "python3"
  },
  "language_info": {
   "codemirror_mode": {
    "name": "ipython",
    "version": 3
   },
   "file_extension": ".py",
   "mimetype": "text/x-python",
   "name": "python",
   "nbconvert_exporter": "python",
   "pygments_lexer": "ipython3",
   "version": "3.13.1"
  }
 },
 "nbformat": 4,
 "nbformat_minor": 5
}
