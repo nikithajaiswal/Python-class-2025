{
 "cells": [
  {
   "cell_type": "markdown",
   "id": "4b012e98",
   "metadata": {},
   "source": [
    "Data Structures\t\n",
    "Lists Indexing, Slicing, ALL List Methods\n",
    "\n",
    "List items are ordered, changeable and allow duplicates and it is enclosed with []\n",
    "Lists are zero-indexed (first element is at 0).\n",
    "Negative indices count from the end (-1 = last element from right to left).\n",
    "eg : my_list = [10, 20, 30, 40, 50]\n",
    "               [0,   1,  2,  3,  4]\n",
    "               [-5, -4, -3, -2, -1]\n",
    "               error if the index is out of range\n",
    "            "
   ]
  },
  {
   "cell_type": "markdown",
   "id": "6046b0b7",
   "metadata": {},
   "source": [
    "Slicing\n",
    "list[start:stop:step]\n",
    "nums = [0, 1, 2, 3, 4, 5, 6, 7, 8, 9]\n",
    "\n",
    "print(nums[2:5])    # [2, 3, 4] (from index 2 to 4)\n",
    "print(nums[:4])     # [0, 1, 2, 3] (start to 3)\n",
    "print(nums[5:])     # [5, 6, 7, 8, 9] (5 to end)\n",
    "print(nums[::2])    # [0, 2, 4, 6, 8] (every 2nd element)\n",
    "print(nums[::-1])   # [9, 8, 7, ..., 0] (reverse list)\n"
   ]
  },
  {
   "cell_type": "code",
   "execution_count": null,
   "id": "b85e7843",
   "metadata": {},
   "outputs": [
    {
     "name": "stdout",
     "output_type": "stream",
     "text": [
      "['apple', 'orange', 'grapes', 'cherry']\n"
     ]
    }
   ],
   "source": [
    "#access items\n",
    "# a =['apple','orange','grapes', 'cherry']\n",
    "# print(a[0])\n",
    "\n",
    "# changing items\n",
    "# a =['apple','orange','grapes', 'cherry']\n",
    "# a[3]='python'\n",
    "# print(a)\n",
    "# adding items\n",
    "# a =['apple','orange','grapes', 'cherry']\n",
    "# a.append('python')\n",
    "# print(a)\n",
    "# #inserting items\n",
    "# a =['apple','orange','grapes', 'cherry']\n",
    "# a.insert(1,'python')\n",
    "# print(a)\n",
    "# extend items\n",
    "# a=['apple','orange','grapes', 'cherry']\n",
    "# b =[1,2,3,4,]\n",
    "# b.extend(a)\n",
    "# print(b)\n",
    "# remove items\n",
    "# a=['apple','orange','grapes', 'cherry']\n",
    "# a.remove(a[1]) #or a.remove('orange')\n",
    "# print(a)\n",
    "#pop items\n",
    "# a=['apple','orange','grapes', 'cherry']\n",
    "# a.pop(1)\n",
    "# print(a)\n",
    "#clear items\n",
    "# a=['apple','orange','grapes', 'cherry']\n",
    "# a.clear()\n",
    "# print(a)\n",
    "# delete items\n",
    "# a=['apple','orange','grapes', 'cherry']\n",
    "# del a\n",
    "# print(a)\n",
    "# sorting items\n",
    "# a=['apple','orange','grapes', 'cherry']\n",
    "# a.sort() or a.sort(reverse=True)\n",
    "# print(a)\n",
    "# # copy items\n",
    "# a=['apple','orange','grapes', 'cherry']\n",
    "# b=a.copy()\n",
    "# print(b)\n",
    "\n",
    "\n"
   ]
  },
  {
   "cell_type": "markdown",
   "id": "c8300296",
   "metadata": {},
   "source": [
    "\n",
    "Tuples Immutability, Packing & Unpacking\n",
    "tuples: Items are ordered, unchangeable (cannot be modified after creation).and allow duplicates and it is enclosed in ()round brackets\n",
    "\n",
    "Immutability: Once created, elements cannot be added, removed, or modified, unchangeable \n",
    "eg:\n",
    "a = (1, 2, 3)\n",
    "a[0] = 10  # TypeError: 'tuple' object does not support item assignment\n",
    " \n",
    "we can modify after changing the datatype to list"
   ]
  },
  {
   "cell_type": "code",
   "execution_count": 1,
   "id": "65f03d8d",
   "metadata": {},
   "outputs": [
    {
     "name": "stdout",
     "output_type": "stream",
     "text": [
      "cherry\n"
     ]
    }
   ],
   "source": [
    "# a= ('apple','orange','grapes', 'cherry')\n",
    "# b= list(a)\n",
    "# b.append('Python')\n",
    "# a=tuple(b)\n",
    "# print(a)\n",
    "\n",
    "# Packing:\n",
    "# many value to multiple variables\n",
    "# a, b, c, d = ('apple','orange','grapes', 'cherry')\n",
    "# print(a)\n",
    "# one value to multiple variables\n",
    "# a = b= c= d = 'apple'\n",
    "# print(c)\n",
    "\n",
    "# Unpacking: Extracting tuple elements into individual variables.\n",
    "packed = ('apple','orange','grapes', 'cherry')\n",
    "a, b,c,d = packed \n",
    "e, f, g, h = packed \n",
    "print(h)\n",
    "\n"
   ]
  },
  {
   "cell_type": "markdown",
   "id": "b6e5acce",
   "metadata": {},
   "source": [
    "Scope of Variables:\n",
    "\n",
    "In programming, the scope of a variable refers to the region of the code where the variable is defined and can be accessed.\n",
    "\n",
    "Local Variables: \n",
    "\n",
    "Local variables are defined within a function or a block of code and are only accessible within that scope.\n"
   ]
  },
  {
   "cell_type": "code",
   "execution_count": null,
   "id": "3622a2a7",
   "metadata": {},
   "outputs": [],
   "source": [
    "def my_function():\n",
    "    x = 10  # local variable\n",
    "    print(x)\n",
    "\n",
    "my_function()  # Output: 10\n"
   ]
  },
  {
   "cell_type": "markdown",
   "id": "eff61c56",
   "metadata": {},
   "source": [
    "Global Variables: \n",
    "\n",
    "Global variables are defined outside of any function or block of code and are accessible from anywhere in the program.\n"
   ]
  },
  {
   "cell_type": "code",
   "execution_count": null,
   "id": "36c6ccc8",
   "metadata": {},
   "outputs": [],
   "source": [
    "x = 10  # global variable\n",
    "\n",
    "def my_function():\n",
    "    print(x)\n",
    "\n",
    "my_function()  # Output: 10\n",
    "print(x)  # Output: 10"
   ]
  },
  {
   "cell_type": "markdown",
   "id": "f0156f89",
   "metadata": {},
   "source": [
    "Global Keyword: \n",
    "\n",
    "The global keyword is used to declare a variable as global within a function. This allows the function to modify the global variable."
   ]
  },
  {
   "cell_type": "code",
   "execution_count": null,
   "id": "0e369d8b",
   "metadata": {},
   "outputs": [],
   "source": [
    "x = 10  # global variable\n",
    "\n",
    "def my_function():\n",
    "    global x\n",
    "    x = 20\n",
    "    print(x)\n",
    "\n",
    "my_function()  # Output: 20\n",
    "print(x)  # Output: 20"
   ]
  },
  {
   "cell_type": "markdown",
   "id": "eebd6c8f",
   "metadata": {},
   "source": [
    "Nonlocal Keyword: \n",
    "\n",
    "The nonlocal keyword is used to declare a variable as nonlocal within a nested function. This allows the inner function to modify the variable from the outer function."
   ]
  },
  {
   "cell_type": "code",
   "execution_count": 1,
   "id": "b8590b65",
   "metadata": {},
   "outputs": [
    {
     "name": "stdout",
     "output_type": "stream",
     "text": [
      "20\n",
      "20\n"
     ]
    }
   ],
   "source": [
    "def outer_function():\n",
    "    x = 10  # nonlocal variable\n",
    "\n",
    "    def inner_function():\n",
    "        nonlocal x\n",
    "        x = 20\n",
    "        print(x)\n",
    "\n",
    "    inner_function()\n",
    "    print(x)\n",
    "\n",
    "outer_function()  # Output: 20, 20"
   ]
  },
  {
   "cell_type": "markdown",
   "id": "0cfdd1ec",
   "metadata": {},
   "source": [
    "Case Statements (Pattern Matching):\n",
    "\n",
    "Python 3.10 introduced structural pattern matching (case statements), which provides a more powerful alternative to traditional if-elif-else chains."
   ]
  },
  {
   "cell_type": "code",
   "execution_count": null,
   "id": "53ef8454",
   "metadata": {},
   "outputs": [],
   "source": [
    "def http_status(status):\n",
    "    match status:\n",
    "        case 200:\n",
    "            return \"OK\"\n",
    "        case 400:\n",
    "            return \"Bad Request\"\n",
    "        case 404:\n",
    "            return \"Not Found\"\n",
    "        case _:\n",
    "            return \"Unknown\"\n",
    "\n",
    "print(http_status(200))  # Output: OK\n",
    "print(http_status(400))  # Output: Bad Request\n",
    "print(http_status(404))  # Output: Not Found\n",
    "print(http_status(500))  # Output: Unknown\n",
    "\n",
    "\n",
    "# In earlier versions of Python, you can use dictionaries to achieve similar behavior:\n",
    "\n",
    "\n",
    "def http_status(status):\n",
    "    status_codes = {\n",
    "        200: \"OK\",\n",
    "        400: \"Bad Request\",\n",
    "        404: \"Not Found\"\n",
    "    }\n",
    "    return status_codes.get(status, \"Unknown\")\n",
    "\n",
    "print(http_status(200))  # Output: OK\n",
    "print(http_status(400))  # Output: Bad Request\n",
    "print(http_status(404))  # Output: Not Found\n",
    "print(http_status(500))  # Output: Unknown\n",
    "\n",
    "# Variables assigned within a case block are local to the entire match statement (function scope)\n",
    "\n",
    "# Patterns can introduce new variables that are scoped to the case block"
   ]
  },
  {
   "cell_type": "markdown",
   "id": "e3a28b30",
   "metadata": {},
   "source": [
    "Lambda Functions: \n",
    "Lambda functions (also called anonymous functions) are small, single-expression functions that are defined without a name. They are often used for short, simple operations where a full function definition would be unnecessary.\n",
    "\n",
    "Python also provides built-in functions like map(), filter(), and reduce() (from functools) that work well with lambda functions for functional programming-style operations.But lambda functions are shorter and more concise.\n",
    "<!-- Syntax: -->\n",
    "<!-- lambda arguments: expression -->\n",
    "\n",
    "lambda: Keyword to define an anonymous function.\n",
    "\n",
    "arguments: Input parameters (like in a regular function).\n",
    "\n",
    "expression: A single expression that is evaluated and returned.\n",
    "use case:\n",
    "Lambda functions are often used when you need a small, short function that's used immediately and then discarded. They're commonly used with functions like map(), filter(), and reduce()."
   ]
  },
  {
   "cell_type": "code",
   "execution_count": 2,
   "id": "cdeb98a1",
   "metadata": {},
   "outputs": [
    {
     "name": "stdout",
     "output_type": "stream",
     "text": [
      "7\n",
      "15\n",
      "Hello, John!\n"
     ]
    }
   ],
   "source": [
    "# Simple Lambda Function\n",
    "add_two = lambda x: x + 2\n",
    "print(add_two(5))  \n",
    "\n",
    "# # # 2. Lambda Function with Multiple Arguments\n",
    "\n",
    "sum_numbers = lambda x=10, y=5 : x + y\n",
    "print(sum_numbers(5,10))  \n",
    "\n",
    "# # # 3. Lambda Function with Default Argument Values\n",
    "\n",
    "greet = lambda name = 'World': f'Hello, {name}!'\n",
    "# print(greet())  # Output: Hello, World!\n",
    "print(greet('John'))  # Output: Hello, John!"
   ]
  },
  {
   "cell_type": "code",
   "execution_count": null,
   "id": "9688bca2",
   "metadata": {},
   "outputs": [
    {
     "name": "stdout",
     "output_type": "stream",
     "text": [
      "[1, 4, 9, 16]\n"
     ]
    }
   ],
   "source": [
    "# map(function, iterable)\n",
    "# Applies a function to all items in an iterable (list, tuple, etc.) and returns a map object (iterator).\n",
    "\n",
    "numbers = [1, 2, 3, 4]\n",
    "squared = map(lambda x: x**2, numbers) # [x**2 for x in numbers]\n",
    "print(list(squared))  # Output: [1, 4, 9, 16]"
   ]
  },
  {
   "cell_type": "code",
   "execution_count": 13,
   "id": "ea28f69b",
   "metadata": {},
   "outputs": [
    {
     "name": "stdout",
     "output_type": "stream",
     "text": [
      "[2, 4, 6]\n"
     ]
    }
   ],
   "source": [
    "# filter(function, iterable):\n",
    "\n",
    "# Filters elements from an iterable based on a function that returns True or False.\n",
    "numbers = [1, 2, 3, 4, 5, 6]\n",
    "evens = filter(lambda x: x % 2 == 0, numbers)\n",
    "print(list(evens))  # Output: [2, 4, 6]"
   ]
  },
  {
   "cell_type": "code",
   "execution_count": null,
   "id": "a8944237",
   "metadata": {},
   "outputs": [
    {
     "name": "stdout",
     "output_type": "stream",
     "text": [
      "24\n"
     ]
    }
   ],
   "source": [
    "# reduce(function, iterable[, initializer]):\n",
    "\n",
    "# Applies a function cumulatively to the items of an iterable, reducing it to a single value. (Note: In Python 3, reduce() is in the functools module.)\n",
    "\n",
    "from functools import reduce\n",
    "\n",
    "numbers = [1, 2, 3, 4]\n",
    "product = reduce(lambda x, y: x * y, numbers)\n",
    "print(product)  # Output: 24 (1*2=2, 2*3=6, 6*4=24)\n",
    "\n",
    "# this is with normal function\n",
    "\n",
    "# from functools import reduce\n",
    "\n",
    "# def multiply(x, y):\n",
    "#     return x * y\n",
    "\n",
    "# numbers = [1, 2, 3, 4]\n",
    "# product = reduce(multiply, numbers)\n",
    "\n",
    "# print(product)  # Output: 24\n",
    "\n"
   ]
  },
  {
   "cell_type": "markdown",
   "id": "5b905a86",
   "metadata": {},
   "source": [
    "Performance Considerations\n",
    "Lambda functions are generally slightly slower than named functions but the difference is negligible for most use cases\n",
    "\n",
    "map() and filter() return iterators, which are memory efficient (they generate values on demand)\n",
    "\n",
    "reduce() processes the entire iterable at once, which can be memory intensive for large datasets"
   ]
  },
  {
   "cell_type": "markdown",
   "id": "83120535",
   "metadata": {},
   "source": [
    "Sets are one of Python's four built-in data types for storing collections of data. They are:\n",
    "\n",
    "Unordered: Elements have no defined order\n",
    "\n",
    "Unindexed: Cannot access elements by index\n",
    "\n",
    "Mutable: Can add/remove elements but you can remove items and add new items.\n",
    "\n",
    "Unique: No duplicate elements allowed and enclosed with curly brackets\n",
    "my_set = {1, 2, 3}"
   ]
  },
  {
   "cell_type": "code",
   "execution_count": null,
   "id": "952811be",
   "metadata": {},
   "outputs": [],
   "source": [
    "# access Items:\n",
    "\n",
    "a= {'apple','cherry', 'orange', 'lemon'}\n",
    "for i in a:\n",
    "    print(i)\n",
    "    # cant for loop to iterate\n",
    "\n",
    "# adding item \n",
    "a= {'apple','cherry', 'orange', 'lemon'}\n",
    "a.add('one')\n",
    "print(a)\n",
    "\n",
    "# Update items\n",
    "a= {'apple','cherry', 'orange', 'lemon'}\n",
    "b = {1,2,3,4}\n",
    "a.update(b)\n",
    "print(a)\n",
    "\n",
    "# remove items two methods:\n",
    "a= {'apple','cherry', 'orange', 'lemon'}\n",
    "a.remove('apple')\n",
    "a.discard(\"cherry\")\n",
    "print(a)\n",
    "\n",
    "# pop Items: it remove random item if no index is given\n",
    "a= {'apple','cherry', 'orange', 'lemon'}\n",
    "a.pop()\n",
    "print(a)\n",
    "\n",
    "\n",
    "# clear items\n",
    "a= {'apple','cherry', 'orange', 'lemon'}\n",
    "a.clear()\n",
    "print(a)\n",
    "\n"
   ]
  },
  {
   "cell_type": "code",
   "execution_count": null,
   "id": "41a16ae4",
   "metadata": {},
   "outputs": [],
   "source": []
  },
  {
   "cell_type": "markdown",
   "id": "86847758",
   "metadata": {},
   "source": [
    "Datatypes dictionary\n",
    "Items are ordered, changeable, do not allow duplicates. Its a key: value pair and it is enclosed within {}"
   ]
  },
  {
   "cell_type": "code",
   "execution_count": null,
   "id": "c2d5d857",
   "metadata": {},
   "outputs": [],
   "source": [
    "a ={ 'name':'python',\n",
    "    'year': 2025,\n",
    "    'batch':'second'\n",
    "    }\n",
    "print(a)\n",
    "\n",
    "# If the two keys are same name it will print latest were duplicates are not allow. If any duplicate keys the lastest key will be print \n"
   ]
  },
  {
   "cell_type": "code",
   "execution_count": null,
   "id": "bd2e1c37",
   "metadata": {},
   "outputs": [],
   "source": [
    "# access the items\n",
    "a ={ 'name':'python',\n",
    "    'year': 2025,\n",
    "    'batch':'second'\n",
    "    }\n",
    "# b=a['name']\n",
    "b=a.get(name)\n",
    "print(b)\n"
   ]
  },
  {
   "cell_type": "code",
   "execution_count": 2,
   "id": "b0f75b9b",
   "metadata": {},
   "outputs": [
    {
     "name": "stdout",
     "output_type": "stream",
     "text": [
      "dict_values(['python', 2025, 'second'])\n"
     ]
    }
   ],
   "source": [
    "# Access only key and value\n",
    "a ={ 'name':'python',\n",
    "    'year': 2025,\n",
    "    'batch':'second'\n",
    "    }\n",
    "# b=a.keys()\n",
    "# print(b)\n",
    "print(a.values())"
   ]
  },
  {
   "cell_type": "code",
   "execution_count": 10,
   "id": "e05430cb",
   "metadata": {},
   "outputs": [
    {
     "name": "stdout",
     "output_type": "stream",
     "text": [
      "{'name': 'python', 'year': 2025, 'batch': 'second', 'color': 'red'}\n"
     ]
    }
   ],
   "source": [
    "# add items:\n",
    "a ={ 'name':'python',\n",
    "    'year': 2025,\n",
    "    'batch':'second'\n",
    "    }\n",
    "a['color']='red'\n",
    "print(a)"
   ]
  },
  {
   "cell_type": "code",
   "execution_count": 11,
   "id": "33423960",
   "metadata": {},
   "outputs": [
    {
     "name": "stdout",
     "output_type": "stream",
     "text": [
      "{'name': 'python', 'year': 2025, 'batch': 'third'}\n"
     ]
    }
   ],
   "source": [
    "# change value:\n",
    "a ={ 'name':'python',\n",
    "    'year': 2025,\n",
    "    'batch':'second'\n",
    "    }\n",
    "a['batch']='third'\n",
    "print(a)\n"
   ]
  },
  {
   "cell_type": "code",
   "execution_count": 12,
   "id": "cbd94ec7",
   "metadata": {},
   "outputs": [
    {
     "name": "stdout",
     "output_type": "stream",
     "text": [
      "{'year': 2025, 'batch': 'second'}\n"
     ]
    }
   ],
   "source": [
    "# Remove items /In dictionary remove concept does not work pop is used\n",
    "a ={ 'name':'python',\n",
    "    'year': 2025,\n",
    "    'batch':'second'\n",
    "    }\n",
    "a.pop('name')  #a.popitem()removes last item\n",
    "print(a)"
   ]
  },
  {
   "cell_type": "code",
   "execution_count": null,
   "id": "665d0847",
   "metadata": {},
   "outputs": [],
   "source": [
    "# Clear dictionary\n",
    "a ={ 'name':'python',\n",
    "    'year': 2025,\n",
    "    'batch':'second'\n",
    "    }\n",
    "a.clear()\n",
    "print(a)"
   ]
  },
  {
   "cell_type": "code",
   "execution_count": 17,
   "id": "d8864287",
   "metadata": {},
   "outputs": [
    {
     "name": "stdout",
     "output_type": "stream",
     "text": [
      "{'class_a': 2, 'sub_a': 'Science'}\n"
     ]
    }
   ],
   "source": [
    "# Nested dictionary\n",
    "\n",
    "one= {\n",
    "    'std_1':{\n",
    "        'class':1,\n",
    "        'sub':'english'\n",
    "    },\n",
    "    'std_2':{\n",
    "        'class_a':2,\n",
    "        'sub_a': 'Science'\n",
    "    },\n",
    "    'std_3':{\n",
    "        'class_b': 3,\n",
    "        'sub_c': 'maths'\n",
    "    }}\n",
    "\n",
    "# print(one)\n",
    "# to access\n",
    "\n",
    "c= one['std_2']['sub_a']\n",
    "print(c)\n"
   ]
  },
  {
   "cell_type": "markdown",
   "id": "29f3a0c2",
   "metadata": {},
   "source": [
    "hyysvcmhvjhvj"
   ]
  },
  {
   "cell_type": "code",
   "execution_count": 3,
   "id": "347c8bc8",
   "metadata": {},
   "outputs": [
    {
     "name": "stdout",
     "output_type": "stream",
     "text": [
      "name: Alice\n",
      "age: 30\n",
      "job: Engineer\n"
     ]
    }
   ],
   "source": [
    "# The **kwargs Parameter\n",
    "# **kwargs allows a function to accept any number of keyword arguments, which are collected into a dictionary.\n",
    "# How it works:\n",
    "# The double asterisk (**) unpacks keyword arguments\n",
    "\n",
    "# Arguments are collected into a dictionary\n",
    "\n",
    "# Parameter name must be kwargs by convention (but the ** is what matters)\n",
    "\n",
    "def person(**kwargs):\n",
    "    for key, value in kwargs.items():\n",
    "        print(f\"{key}: {value}\")\n",
    "\n",
    "person(name='Alice', age=30, job='Engineer')\n"
   ]
  },
  {
   "cell_type": "code",
   "execution_count": 4,
   "id": "c72cbe6a",
   "metadata": {},
   "outputs": [
    {
     "name": "stdout",
     "output_type": "stream",
     "text": [
      "Required: hello\n",
      "Args: (1, 2, 3)\n",
      "Kwargs: {'key1': 'value1', 'key2': 'value2'}\n"
     ]
    }
   ],
   "source": [
    "def example_func(required, *args, **kwargs):\n",
    "    print(f\"Required: {required}\")\n",
    "    print(f\"Args: {args}\")\n",
    "    print(f\"Kwargs: {kwargs}\")\n",
    "\n",
    "example_func('hello', 1, 2, 3, key1='value1', key2='value2')"
   ]
  },
  {
   "cell_type": "markdown",
   "id": "88754263",
   "metadata": {},
   "source": [
    "String Basics, String Indexing & Slicing, len()\n",
    "String Basics\n",
    "\n",
    "In Python, a string is a sequence of characters enclosed in quotes (single, double, or triple quotes). \n",
    "Strings are immutable, meaning they cannot be changed after creation."
   ]
  },
  {
   "cell_type": "code",
   "execution_count": null,
   "id": "a0046449",
   "metadata": {},
   "outputs": [],
   "source": [
    "name = \"Alice\"\n",
    "quote = 'Hello, World!'"
   ]
  },
  {
   "cell_type": "markdown",
   "id": "fea457d3",
   "metadata": {},
   "source": [
    "String Indexing\n",
    "\n",
    "String indexing allows you to access individual characters in a string. \n",
    "Indexing starts at 0, meaning the first character is at index 0.\n",
    "String:     A   l   i   c   e\n",
    "Index:      0   1   2   3   4\n",
    "Negative:  -5  -4  -3  -2  -1\n"
   ]
  },
  {
   "cell_type": "code",
   "execution_count": null,
   "id": "4383afed",
   "metadata": {},
   "outputs": [],
   "source": [
    "name = \"Alice\"\n",
    "print(name[0])    \n",
    "print(name[-1])   \n"
   ]
  },
  {
   "cell_type": "markdown",
   "id": "b03eafdf",
   "metadata": {},
   "source": [
    "String slicing allows you to extract a subset of characters from a string. The syntax is my_string[start:stop:step].\n",
    "\n",
    "start: The starting index (inclusive).\n",
    "stop: The ending index (exclusive).\n",
    "step: The increment between indices (default is 1)."
   ]
  },
  {
   "cell_type": "code",
   "execution_count": null,
   "id": "32f0cfaf",
   "metadata": {},
   "outputs": [],
   "source": [
    "name = \"Alice\"\n",
    "print(name[1:4])   # Output: lic (starts from index 1, ends before index 4)\n",
    "print(name[:3])    # Output: Ali (from start to index 3)\n",
    "print(name[2:])    # Output: ice (from index 2 to end)"
   ]
  },
  {
   "cell_type": "code",
   "execution_count": null,
   "id": "7274d495",
   "metadata": {},
   "outputs": [
    {
     "name": "stdout",
     "output_type": "stream",
     "text": [
      "11\n"
     ]
    }
   ],
   "source": [
    "# len():The len() function returns the length (number of characters) in a string.\n",
    "\n",
    "text = \"Hello world\"\n",
    "print(len(text))  # it will count from the start of the quotes till the end of the quotes it will count the len  \n",
    " "
   ]
  },
  {
   "cell_type": "markdown",
   "id": "c730ac3f",
   "metadata": {},
   "source": [
    "b. String Methods\n",
    "These are built-in functions to work with strings. Let’s go through each one:\n",
    " upper()\n",
    "Converts all characters to uppercase.\n"
   ]
  },
  {
   "cell_type": "code",
   "execution_count": null,
   "id": "a2ca0c6c",
   "metadata": {},
   "outputs": [
    {
     "name": "stdout",
     "output_type": "stream",
     "text": [
      "HELLO WORLD\n"
     ]
    }
   ],
   "source": [
    "text = \"hello world\"\n",
    "print(text.upper())  \n"
   ]
  },
  {
   "cell_type": "code",
   "execution_count": 5,
   "id": "6ca680a2",
   "metadata": {},
   "outputs": [
    {
     "name": "stdout",
     "output_type": "stream",
     "text": [
      "hello world\n"
     ]
    }
   ],
   "source": [
    "# lower()\n",
    "# Converts all characters to lowercase.\n",
    "text = \"HELLO WORLD\"\n",
    "print(text.lower())  \n",
    "\n"
   ]
  },
  {
   "cell_type": "code",
   "execution_count": 6,
   "id": "165f2011",
   "metadata": {},
   "outputs": [
    {
     "name": "stdout",
     "output_type": "stream",
     "text": [
      "Hello\n",
      "Hello World\n"
     ]
    }
   ],
   "source": [
    "# strip()\n",
    "# Removes leading and trailing whitespaces (or characters, if specified).\n",
    "\n",
    "text = \"   Hello   \"\n",
    "print(text.strip())  \n",
    "\n",
    "# With specific character\n",
    "txt = \"xxHello Worldxx\"\n",
    "print(txt.strip('x'))  \n"
   ]
  },
  {
   "cell_type": "code",
   "execution_count": 7,
   "id": "fac25f3b",
   "metadata": {},
   "outputs": [
    {
     "name": "stdout",
     "output_type": "stream",
     "text": [
      "6\n",
      "-1\n"
     ]
    }
   ],
   "source": [
    "# find()\n",
    "# Returns the index of the first occurrence of a substring. Returns -1 if not found.\n",
    "\n",
    "text = \"Hello World\"\n",
    "print(text.find(\"World\"))  \n",
    "print(text.find(\"Python\")) \n"
   ]
  },
  {
   "cell_type": "code",
   "execution_count": 12,
   "id": "51dba1a5",
   "metadata": {},
   "outputs": [
    {
     "name": "stdout",
     "output_type": "stream",
     "text": [
      "I like bananas\n",
      "I like kiwiles\n"
     ]
    }
   ],
   "source": [
    "# replace()\n",
    "# Replaces all occurrences of a substring with another substring.\n",
    "\n",
    "text = \"I like apples\"\n",
    "print(text.replace(\"apples\", \"bananas\"))\n",
    "print(text.replace(\"app\",\"kiwi\"))\n"
   ]
  },
  {
   "cell_type": "code",
   "execution_count": 14,
   "id": "83105027",
   "metadata": {},
   "outputs": [
    {
     "name": "stdout",
     "output_type": "stream",
     "text": [
      "['one', 'two', 'three']\n",
      "['one', 'two', 'three']\n"
     ]
    }
   ],
   "source": [
    "# split()\n",
    "# Splits a string into a list of substrings based on a separator (default is space).\n",
    "\n",
    "text = \"one two three\"  #spilt the words and create seperate items\n",
    "print(text.split())  \n",
    "print(text.split())"
   ]
  },
  {
   "cell_type": "code",
   "execution_count": 13,
   "id": "70f80ff2",
   "metadata": {},
   "outputs": [
    {
     "name": "stdout",
     "output_type": "stream",
     "text": [
      "Python is fun\n",
      "1-2-3\n"
     ]
    }
   ],
   "source": [
    "# join()\n",
    "# Joins elements of a list into a string using a separator.\n",
    "\n",
    "words = ['Python', 'is', 'fun']\n",
    "print(\" \".join(words))  # Output: Python is fun\n",
    "\n",
    "items = ['1', '2', '3']\n",
    "print(\"-\".join(items))  # Output: 1-2-3"
   ]
  },
  {
   "cell_type": "markdown",
   "id": "adc14513",
   "metadata": {},
   "source": [
    "looping through strings, tuples, list, tuples, dictationary\n",
    "\n",
    "Looping through string:\n",
    "\n",
    "A string is a sequence of characters. So, when you loop through a string, you're looping through each character."
   ]
  },
  {
   "cell_type": "code",
   "execution_count": null,
   "id": "194374d1",
   "metadata": {},
   "outputs": [
    {
     "name": "stdout",
     "output_type": "stream",
     "text": [
      "h\n",
      "e\n",
      "l\n",
      "l\n",
      "o\n",
      " \n",
      "w\n",
      "o\n",
      "r\n",
      "l\n",
      "d\n"
     ]
    }
   ],
   "source": [
    "text = \"hello\"\n",
    "\n",
    "for i in text:\n",
    "    print(i)\n",
    "\n"
   ]
  },
  {
   "cell_type": "markdown",
   "id": "5644f484",
   "metadata": {},
   "source": [
    "Looping through Lists: \n",
    "\n",
    "A list is a collection of items (can be strings, numbers, etc.)."
   ]
  },
  {
   "cell_type": "code",
   "execution_count": 8,
   "id": "53ffdec5",
   "metadata": {},
   "outputs": [
    {
     "name": "stdout",
     "output_type": "stream",
     "text": [
      "apple\n",
      "banana\n",
      "cherry\n"
     ]
    }
   ],
   "source": [
    "fruits = [\"apple\", \"banana\", \"cherry\"]\n",
    "\n",
    "for fruit in fruits:\n",
    "    print(fruit)\n"
   ]
  },
  {
   "cell_type": "markdown",
   "id": "93075678",
   "metadata": {},
   "source": [
    "Looping through Tuples:\n",
    "\n",
    "A tuple is similar to a list, but it is immutable (cannot be changed). Looping is exactly the same as a list."
   ]
  },
  {
   "cell_type": "code",
   "execution_count": null,
   "id": "567d178e",
   "metadata": {},
   "outputs": [
    {
     "name": "stdout",
     "output_type": "stream",
     "text": [
      "red\n",
      "red\n",
      "green\n",
      "blue\n"
     ]
    }
   ],
   "source": [
    "colors = (\"red\", \"green\", \"blue\")\n",
    "\n",
    "# print(colors[0])\n",
    "for color in colors:\n",
    "    print(color)\n"
   ]
  },
  {
   "cell_type": "code",
   "execution_count": null,
   "id": "71e7d486",
   "metadata": {},
   "outputs": [
    {
     "name": "stdout",
     "output_type": "stream",
     "text": [
      "name\n",
      "age\n",
      "grade\n",
      "Alice\n",
      "20\n",
      "A\n",
      "name Alice\n",
      "age 20\n",
      "grade A\n"
     ]
    }
   ],
   "source": [
    "#  Looping through Dictionaries\n",
    "\n",
    "# A dictionary stores data in key-value pairs.\n",
    "\n",
    "student = {\n",
    "    \"name\": \"Alice\",\n",
    "    \"age\": 20,\n",
    "    \"grade\": \"A\"\n",
    "}\n",
    "\n",
    "# You can loop in different ways:\n",
    "# Loop through keys (default):\n",
    "\n",
    "for key in student:\n",
    "    print(key)  # Only keys\n",
    "\n",
    "    # Loop through values:\n",
    "for value in student.values():\n",
    "    print(value)\n",
    "\n",
    "\n",
    "# Loop through key-value pairs:\n",
    "for key,value in student.items():\n",
    "    print(key,value)\n",
    "\n",
    "\n",
    "\n"
   ]
  },
  {
   "cell_type": "markdown",
   "id": "bc1fd945",
   "metadata": {},
   "source": [
    "1. File Handling"
   ]
  },
  {
   "cell_type": "markdown",
   "id": "c39b1922",
   "metadata": {},
   "source": [
    "\n",
    "File handling refers to the process of reading, writing, and managing files in a programming language. In Python, files are a fundamental concept, and understanding how to work with them is crucial for any developer.\n",
    "\n",
    "Types of Files\n",
    "There are several types of files that you can work with in Python, including:\n",
    "\n",
    "Text Files: These are files that contain plain text data, such as .txt files.\n",
    "Binary Files: These are files that contain binary data, such as images, audio, and video files.\n",
    "CSV Files: These are files that contain comma-separated values, often used for storing tabular data.\n",
    "JSON Files: These are files that contain data in JavaScript Object Notation format, often used for storing data in a human-readable format.\n",
    "\n",
    "File Modes:\n",
    "\n",
    "\n",
    "Mode\tDescription\n",
    "'r'\tRead-only (file must exist)\n",
    "'w'\tWrite (creates file or overwrites)\n",
    "'a'\tAppend (creates file or adds to existing)\n",
    "'b'\tBinary mode (used with above modes)\n",
    "'x'\tExclusive creation (fails if file exists)\n",
    "'+'\tRead/write combined (e.g., 'r+')"
   ]
  },
  {
   "cell_type": "markdown",
   "id": "05580fb7",
   "metadata": {},
   "source": [
    "2. Reading & Writing Files\n",
    "Python provides several functions for reading and writing files, including:\n",
    "\n",
    "open(): This function is used to open a file in a specific mode, such as read-only ('r'), write-only ('w'), or append ('a').\n",
    "read(): This function is used to read the contents of a file.\n",
    "write(): This function is used to write data to a file.\n",
    "close(): This function is used to close a file after you're done working with it.\n",
    "Here's an example of how to use these functions:"
   ]
  },
  {
   "cell_type": "code",
   "execution_count": null,
   "id": "3a2315d4",
   "metadata": {},
   "outputs": [],
   "source": [
    "# Open a file in read-only mode\n",
    "file = open('example.txt', 'r')\n",
    "\n",
    "# Read the contents of the file\n",
    "contents = file.read()\n",
    "print(contents)\n",
    "\n",
    "# readline( ) reads a one line at a time\n",
    "#  and readlines( ) reads all lines into a list\n",
    "\n",
    "line = file.readline()\n",
    "lines = file.readlines()\n",
    "\n",
    "# wrtie()\n",
    "# Writes a string to the file. You must open the file in 'w' or 'a' mode.\n",
    "file = open(\"example.txt\", \"w\")\n",
    "file.write(\"Hello, world!\")\n",
    "\n",
    "\n",
    "# Close the file\n",
    "file.close()\n",
    "\n",
    "# Automatically handles closing the file. with statement\n",
    "with open(\"example.txt\", \"r\") as file:\n",
    "    contents = file.read()\n",
    "    print(contents)"
   ]
  },
  {
   "cell_type": "markdown",
   "id": "65378c89",
   "metadata": {},
   "source": [
    "3. Working with CSV & JSON Files \n",
    "CSV and JSON files are two common file formats used for storing data.\n",
    "\n",
    "CSV Files ((Comma-Separated Values))\n",
    "CSV files are plain text files that contain comma-separated values. Python provides a csv module for working with CSV files.\n",
    "\n",
    "csv.reader: This function is used to read a CSV file and return a reader object. Reads each line as a list.Automatically handles commas and line breaks.\n",
    "csv.writer: This function is used to write data to a CSV file.\n",
    "writerow() writes a single row (list).\n",
    "\n",
    "writerows() writes multiple rows (list of lists)."
   ]
  },
  {
   "cell_type": "code",
   "execution_count": null,
   "id": "2b0bc128",
   "metadata": {},
   "outputs": [],
   "source": [
    "import csv\n",
    "\n",
    "# Open a CSV file in read-only mode\n",
    "with open('example.csv', 'r') as file:\n",
    "    reader = csv.reader(file)\n",
    "    for row in reader:\n",
    "        print(row)\n",
    "\n",
    "# Open a CSV file in write-only mode\n",
    "with open('example.csv', 'w') as file:\n",
    "    writer = csv.writer(file)\n",
    "    writer.writerow(['Name', 'Age'])\n",
    "    writer.writerow(['John', 30])"
   ]
  },
  {
   "cell_type": "markdown",
   "id": "13154347",
   "metadata": {},
   "source": [
    "JSON Files (JavaScript Object Notation)\n",
    "JSON files are plain text files that contain data in JavaScript Object Notation format. Python provides a json module for working with JSON files.\n",
    "\n",
    "json.load(): This function is used to read a JSON file and return a Python object.\n",
    "json.dump(): This function is used to write a Python object to a JSON file."
   ]
  },
  {
   "cell_type": "code",
   "execution_count": null,
   "id": "949c7a79",
   "metadata": {},
   "outputs": [],
   "source": [
    "import json\n",
    "\n",
    "# Open a JSON file in read-only mode\n",
    "with open('example.json', 'r') as file:\n",
    "    data = json.load(file)\n",
    "    print(data)\n",
    "\n",
    "# Open a JSON file in write-only mode\n",
    "data = {'name': 'John', 'age': 30}\n",
    "with open('example.json', 'w') as file:\n",
    "    json.dump(data, file)"
   ]
  },
  {
   "cell_type": "markdown",
   "id": "2f36fe5c",
   "metadata": {},
   "source": [
    "**Exception Handling in # Python**\n",
    "Exception handling is a mechanism in Python that allows you to handle runtime errors or exceptions that occur during the execution of your code. It's a way to anticipate and manage errors that might occur, making your code more robust and reliable."
   ]
  },
  {
   "cell_type": "markdown",
   "id": "8da56828",
   "metadata": {},
   "source": [
    "**Basic Exception Handling:**\n",
    "Python uses try, except, and finally blocks to handle exceptions (errors) gracefully without crashing the program.\n",
    "\n",
    "**try Block**\n",
    "The try block contains the code that might raise an exception. You can think of it as a \"protected\" block of code.\n",
    "```python\n",
    "try:\n",
    "    # Code that might raise an exception\n",
    "    x = 1 / 0\n",
    "```\n",
    "\n",
    "**except Block**\n",
    "The except block contains the code that will be executed if an exception is raised in the try block. You can specify the type of exception you want to catch. \n",
    "\n",
    "```python\n",
    "except ZeroDivisionError:\n",
    "    # Code to handle the exception\n",
    "    print(\"Cannot divide by zero!\")\n",
    "\n",
    "```\n",
    "**finally Block**\n",
    "The finally block contains the code that will be executed regardless of whether an exception was raised or not. This is useful for releasing resources, such as closing files or database connections.\n",
    "\n",
    "```python\n",
    "finally:\n",
    "    # Code to release resources\n",
    "    print(\"Finally block executed\")\n",
    "```"
   ]
  },
  {
   "cell_type": "code",
   "execution_count": 1,
   "id": "5d11462e",
   "metadata": {},
   "outputs": [
    {
     "name": "stdout",
     "output_type": "stream",
     "text": [
      "Cannot divide by zero!\n",
      "Finally block executed\n"
     ]
    }
   ],
   "source": [
    "try:\n",
    "    x = 1 / 0\n",
    "except ZeroDivisionError:\n",
    "    print(\"Cannot divide by zero!\")\n",
    "finally:\n",
    "    print(\"Finally block executed\")"
   ]
  },
  {
   "cell_type": "code",
   "execution_count": null,
   "id": "e2fc9b31",
   "metadata": {},
   "outputs": [],
   "source": [
    "# Catching Multiple Exceptions \n",
    "# You can catch multiple exceptions by separating them with commas in the except block.\n",
    "# One block for multiple exceptions\n",
    "# try:\n",
    "#     x = 1 / 0\n",
    "# except (ZeroDivisionError, TypeError):\n",
    "#     print(\"Invalid operation\")\n",
    "\n",
    "# Separate except blocks\n",
    "try:\n",
    "    a = int(input(\"Enter a number: \"))\n",
    "    b = 10 / a\n",
    "except ValueError:\n",
    "    print(\"Invalid input! Please enter a number.\")\n",
    "except ZeroDivisionError:\n",
    "    print(\"You cannot divide by zero.\")\n"
   ]
  },
  {
   "cell_type": "markdown",
   "id": "b9101a13",
   "metadata": {},
   "source": [
    "**raise Statement**\n",
    "You can manually raise an exception using the raise keyword. Useful when you want to enforce a condition.\n",
    "\n",
    "```python\n",
    "raise ValueError(\"Invalid input\")\n",
    "```"
   ]
  },
  {
   "cell_type": "code",
   "execution_count": null,
   "id": "a3c2c769",
   "metadata": {},
   "outputs": [],
   "source": [
    "age = 18\n",
    "\n",
    "if age <=12:\n",
    "    raise ValueError(\"young\")\n",
    "else:\n",
    "    print(\"all set\")"
   ]
  },
  {
   "cell_type": "markdown",
   "id": "154eb3bf",
   "metadata": {},
   "source": [
    "**Libraries and Usage**\n",
    "Python provides several libraries for exception handling, including:\n",
    "\n",
    "logging: for logging exceptions and errors\n",
    "traceback: for printing exception stack traces\n",
    "sys: for accessing system-specific exception handling functions"
   ]
  },
  {
   "cell_type": "markdown",
   "id": "daefb5c8",
   "metadata": {},
   "source": [
    "**List Comprehensions & Generators**\n",
    "\n",
    "**List Comprehensions**\n",
    "List comprehensions are a concise way to create lists in Python. They consist of brackets containing an expression, which is executed for each element, along with the for loop to loop over the iterable.\n",
    "\n",
    "syntax:\n",
    "```python\n",
    "[expression for variable in iterable]\n",
    "\n",
    "```\n",
    "newlist = [expression for item in iterable if condition == True]"
   ]
  },
  {
   "cell_type": "code",
   "execution_count": null,
   "id": "7d335a27",
   "metadata": {},
   "outputs": [],
   "source": [
    "# Example\n",
    "# Create a list of squares of numbers from 1 to 5: [1,2,3,4,5,]\n",
    "\n",
    "squares = [x**2 for x in range(1, 6)]\n",
    "print(squares)  # [1, 4, 9, 16, 25]\n",
    "\n",
    "newlist = [x for x in fruits if x != \"apple\"]\n",
    "newlist = [x for x in fruits]\n",
    "newlist = [x for x in range(10)]\n",
    "newlist = [x for x in range(10) if x < 5]\n",
    "newlist = [x.upper() for x in fruits]\n",
    "newlist = ['hello' for x in fruits]\n",
    "newlist = [x if x != \"banana\" else \"orange\" for x in fruits]"
   ]
  },
  {
   "cell_type": "code",
   "execution_count": null,
   "id": "444f34df",
   "metadata": {},
   "outputs": [],
   "source": [
    "# Filtering Elements\n",
    "# You can also add a condition to filter elements. This will only include the squares of even numbers in the resulting list.\n",
    "\n",
    "# syntax : [expression for item in iterable if condition]\n",
    "\n",
    "even_squares = [x**2 for x in range(1, 6) if x % 2 == 0]\n",
    "print(even_squares)  # [4, 16]"
   ]
  },
  {
   "cell_type": "markdown",
   "id": "cc688e71",
   "metadata": {},
   "source": [
    "**2. Dictionary & Set Comprehensions**\n",
    "Dictionary and set comprehensions are similar to list comprehensions, but they create dictionaries and sets instead.\n",
    "\n",
    "**Dictionary Comprehensions**\n",
    "syntax : \n",
    "```python\n",
    "{key: value for variable in iterable}\n",
    "```"
   ]
  },
  {
   "cell_type": "code",
   "execution_count": null,
   "id": "9ab5c8c5",
   "metadata": {},
   "outputs": [],
   "source": [
    "# Example\n",
    "# Create a dictionary with numbers as keys and their squares as values:\n",
    "\n",
    "squares_dict = {x: x**2 for x in range(5)}\n",
    "print(squares_dict)  # {0: 0, 1: 1, 2: 4, 3: 9, 4: 16}"
   ]
  },
  {
   "cell_type": "code",
   "execution_count": null,
   "id": "691066c0",
   "metadata": {},
   "outputs": [
    {
     "name": "stdout",
     "output_type": "stream",
     "text": [
      "{1, 4, 9}\n"
     ]
    }
   ],
   "source": [
    "# Set Comprehensions\n",
    "# The syntax for set comprehensions is: indexing is not used in set comprehensions\n",
    "# syntax:\n",
    "# {expression for variable in iterable}\n",
    "\n",
    "#  Create a set of squares of numbers from 1 to 5:\n",
    "\n",
    "squares_set = {x**2 for x in [1, 2, 2, 3]}\n",
    "  \n",
    "\n",
    "print(squares_set)  # Output: {1, 4, 9}\n"
   ]
  },
  {
   "cell_type": "markdown",
   "id": "0c872557",
   "metadata": {},
   "source": [
    "Generator Functions\n",
    "A generator function is a special type of function that uses the **yield** keyword to produce a series of values."
   ]
  },
  {
   "cell_type": "code",
   "execution_count": 1,
   "id": "c2a9f1e9",
   "metadata": {},
   "outputs": [
    {
     "name": "stdout",
     "output_type": "stream",
     "text": [
      "1\n",
      "4\n",
      "9\n",
      "16\n",
      "25\n"
     ]
    }
   ],
   "source": [
    "# Example\n",
    "# Create a generator function that yields the squares of numbers from 1 to 5:\n",
    "\n",
    "def squares():\n",
    "    for x in range(1, 6):\n",
    "        yield x**2\n",
    "\n",
    "for square in squares():\n",
    "    print(square)  # 1, 4, 9, 16, 25"
   ]
  },
  {
   "cell_type": "markdown",
   "id": "12f50ca1",
   "metadata": {},
   "source": [
    "**Yield Keyword**\n",
    "The yield keyword is used to produce a value from a generator function. When a generator function is called, it returns a generator iterator, which can be used to iterate over the values produced by the generator function.\n",
    "\n",
    "When the yield keyword is encountered, the function returns the value and pauses its execution. The next time the generator iterator is called, the function resumes its execution from where it left off."
   ]
  },
  {
   "cell_type": "code",
   "execution_count": 3,
   "id": "3b38e72e",
   "metadata": {},
   "outputs": [
    {
     "name": "stdout",
     "output_type": "stream",
     "text": [
      "0\n",
      "1\n"
     ]
    }
   ],
   "source": [
    "# Generator Expressions:\n",
    "# Similar to list comprehensions, but with parentheses:\n",
    "    \n",
    "gen_exp = (x**2 for x in range(5))\n",
    "print(next(gen_exp))  # Output: 0\n",
    "print(next(gen_exp)) \n",
    "\n",
    "\n"
   ]
  },
  {
   "cell_type": "markdown",
   "id": "d50c59f2",
   "metadata": {},
   "source": [
    "**Modules & Importing**\n",
    "**Importing Modules**\n",
    "A module is simply a Python file (.py) containing functions, classes, or variables you can reuse.\n",
    "Python has built-in modules like ```python\n",
    "math, random, datetime, os, etc.\n",
    "```\n",
    "math: provides mathematical functions and constants\n",
    "random: provides functionality for generating random numbers\n",
    "datetime: provides classes for manipulating dates and times\n",
    "os: provides a way to interact with the operating system\n",
    "__main__: a special module that represents the main module of a Python program\n",
    "If you run my_script.py, it prints \"Hello!\"\n",
    "\n",
    "If you import my_script, it doesn't execute the greet() automatically. Helps to separate code execution from module functionality.\n",
    "\n",
    "Consider a module to be the same as a code library.\n",
    "\n",
    "A file containing a set of functions you want to include in your application.\n",
    "\n",
    "To create a module just save the code you want in a file with the file extension .py:"
   ]
  },
  {
   "cell_type": "code",
   "execution_count": 4,
   "id": "9cf41dda",
   "metadata": {},
   "outputs": [
    {
     "name": "stdout",
     "output_type": "stream",
     "text": [
      "Hello!\n"
     ]
    }
   ],
   "source": [
    "# my_script.py\n",
    "def greet():\n",
    "    print(\"Hello!\")\n",
    "\n",
    "if __name__ == \"__main__\":\n",
    "    greet()\n"
   ]
  },
  {
   "cell_type": "code",
   "execution_count": null,
   "id": "102d9af6",
   "metadata": {},
   "outputs": [],
   "source": []
  },
  {
   "cell_type": "code",
   "execution_count": null,
   "id": "ab0f51ed",
   "metadata": {},
   "outputs": [],
   "source": [
    "import math\n",
    "import random\n",
    "import datetime\n",
    "import os\n"
   ]
  },
  {
   "cell_type": "code",
   "execution_count": null,
   "id": "974f03bc",
   "metadata": {},
   "outputs": [],
   "source": [
    "# You can also import specific functions or classes from a module using the from keyword:\n",
    "from math import sin, cos\n",
    "from random import randint\n",
    "# Note: When using a function from a module, use the syntax: module_name.function_name.\n"
   ]
  },
  {
   "cell_type": "markdown",
   "id": "e495da70",
   "metadata": {},
   "source": [
    "**pycache**\n",
    "\n",
    "__pycache__ is a directory that Python creates to store compiled versions of your Python files. This is done to speed up the execution of your code. When you run a Python file, Python compiles it into bytecode and stores it in the __pycache__ directory. The next time you run the file, Python can load the compiled bytecode from the __pycache__ directory instead of recompiling the file."
   ]
  },
  {
   "cell_type": "markdown",
   "id": "ac323994",
   "metadata": {},
   "source": [
    "**Creating and Importing Custom Modules**\n",
    "You can create a custom module by saving a Python file with a .py extension. For example, let's say you have a file called my_module.py with the following contents"
   ]
  },
  {
   "cell_type": "code",
   "execution_count": null,
   "id": "013d8d9d",
   "metadata": {},
   "outputs": [],
   "source": []
  },
  {
   "cell_type": "code",
   "execution_count": null,
   "id": "8689b3c4",
   "metadata": {},
   "outputs": [],
   "source": [
    "# greetings.py\n",
    "def hello(name):\n",
    "    return f\"Hello, {name}!\"\n",
    "# import and use it \n",
    "import greetings\n",
    "print(greetings.hello(\"Alice\"))\n"
   ]
  },
  {
   "cell_type": "markdown",
   "id": "3d124225",
   "metadata": {},
   "source": [
    "**Packaging Your Code into Libraries**\n",
    "\n",
    "\n",
    "Packaging your code into libraries is a way to distribute and reuse your code across multiple projects. A library is a collection of related modules and functions that can be easily imported and used in other projects. Reusability, Easy Distribution\n",
    "\n",
    "You can distribute your library so that others can install it using pip, just like popular packages (numpy, pandas, etc.).\n",
    "\n",
    "**How to Package Your Code**\n",
    "\n",
    "To package your code, you'll need to create a setup.py file, which is a special file that contains metadata about your library. Here's an example of a simple setup.py file:"
   ]
  },
  {
   "cell_type": "code",
   "execution_count": null,
   "id": "649e7b7f",
   "metadata": {},
   "outputs": [],
   "source": [
    "from setuptools import setup\n",
    "\n",
    "setup(\n",
    "    name=\"my_library\",\n",
    "    version=\"1.0\",\n",
    "    packages=[\"my_module\"],\n",
    "    install_requires=[]\n",
    ")"
   ]
  },
  {
   "cell_type": "markdown",
   "id": "9cdfd8c1",
   "metadata": {},
   "source": [
    "**Basic setup.py for installing your package**\n",
    "\n",
    "A setup.py file is a crucial component of any Python package. It contains metadata about your package, such as its name, version, and dependencies, and is used to install and distribute your package."
   ]
  },
  {
   "cell_type": "code",
   "execution_count": null,
   "id": "d468d26a",
   "metadata": {},
   "outputs": [],
   "source": [
    "from setuptools import setup\n",
    "\n",
    "setup(\n",
    "    name='your_package_name',\n",
    "    version='1.0.0',\n",
    "    packages=['your_package_name'],\n",
    "    install_requires=[],\n",
    "    author='Your Name',\n",
    "    author_email='your_email@example.com'\n",
    ")\n",
    "\n",
    "# Let's break down the components:\n",
    "\n",
    "# name: The name of your package.\n",
    "# version: The version number of your package.\n",
    "# packages: A list of packages to include in the distribution. In this case, we're including the your_package_name package.\n",
    "# install_requires: A list of dependencies required to install and run your package.\n",
    "# author and author_email: Information about the package author."
   ]
  },
  {
   "cell_type": "markdown",
   "id": "89ce7252",
   "metadata": {},
   "source": [
    "**Object-Oriented Programming OOP**\n",
    "**a. Classes & Objects**\n",
    "A class is a blueprint for creating objects. Almost everything in Python is an object, with its properties and methodsYou can define a class using the class keyword:\n",
    "Object = Instance of a class.You can create an object from a class using the () operator:"
   ]
  },
  {
   "cell_type": "code",
   "execution_count": 1,
   "id": "79dfdda7",
   "metadata": {},
   "outputs": [],
   "source": [
    "class dog:\n",
    "    pass\n",
    "\n",
    "my_dog = dog()\n"
   ]
  },
  {
   "cell_type": "code",
   "execution_count": null,
   "id": "d2700f66",
   "metadata": {},
   "outputs": [],
   "source": []
  },
  {
   "cell_type": "code",
   "execution_count": 2,
   "id": "c30710bb",
   "metadata": {},
   "outputs": [
    {
     "name": "stdout",
     "output_type": "stream",
     "text": [
      "Hello, my name is Alice and I am 30 years old.\n"
     ]
    }
   ],
   "source": [
    "class Person:\n",
    "    def __init__(self, name, age):\n",
    "        self.name = name\n",
    "        self.age = age\n",
    "\n",
    "    def greet(self):\n",
    "        print(f\"Hello, my name is {self.name} and I am {self.age} years old.\")\n",
    "# create a object\n",
    "person = Person(\"Alice\", 30)\n",
    "person.greet()"
   ]
  },
  {
   "cell_type": "markdown",
   "id": "a3936bc9",
   "metadata": {},
   "source": [
    "**Dunder Methods**\n",
    "\n",
    "Dunder methods are special methods in Python that are surrounded by double underscores (__). They are used to implement special behavior in your classes.\n",
    "\n",
    "Here are some examples of dunder methods:\n",
    "\n",
    "__str__: returns a string representation of an object\n",
    "__repr__: returns a string representation of an object that can be used to recreate the object"
   ]
  },
  {
   "cell_type": "code",
   "execution_count": 3,
   "id": "9282d53a",
   "metadata": {},
   "outputs": [
    {
     "name": "stdout",
     "output_type": "stream",
     "text": [
      "max, 5 years old\n",
      "Person(name=max, age=5)\n"
     ]
    }
   ],
   "source": [
    "class dog:\n",
    "\n",
    "    def __init__(self, name, age):\n",
    "        self.name = name\n",
    "        self.age = age\n",
    "\n",
    "    def __str__(self):\n",
    "        return f\"{self.name}, {self.age} years old\"\n",
    "    \n",
    "\n",
    "\n",
    "    def __repr__(self):\n",
    "        return f\"Person(name={self.name}, age={self.age})\"\n",
    "    \n",
    "my_dog = dog(\"max\",5)\n",
    "print(str(my_dog))\n",
    "print(repr(my_dog))\n",
    "\n",
    "\n",
    "\n"
   ]
  },
  {
   "cell_type": "code",
   "execution_count": 4,
   "id": "64dd689e",
   "metadata": {},
   "outputs": [],
   "source": [
    "class Person:\n",
    "    def __init__(self, name, age):\n",
    "        self.name = name\n",
    "        self.age = age\n",
    "\n",
    "    def __str__(self):\n",
    "        return f\"{self.name}, {self.age} years old\"\n",
    "\n",
    "    def __repr__(self):\n",
    "        return f\"Person(name={self.name}, age={self.age})\""
   ]
  },
  {
   "cell_type": "markdown",
   "id": "1fd757b5",
   "metadata": {},
   "source": [
    " **Constructors**\n",
    " **Intializing Object Attributes**\n",
    " A constructor is a special method in Python that is called when an object is created. It is used to initialize the attributes of an object.\n",
    " A constructor is a method that is called when an object is created from a class. It is used to initialize the attributes of the class and set up the initial state of the object. In Python, the constructor is defined using the __init__ method."
   ]
  },
  {
   "cell_type": "code",
   "execution_count": null,
   "id": "08ed7467",
   "metadata": {},
   "outputs": [],
   "source": [
    "class Car:\n",
    "    def __init__(self, brand, year):\n",
    "        self.brand = brand\n",
    "        self.year = year\n",
    "\n",
    "car = Car(\"Toyota\", 2022)\n",
    "print(car.brand, car.year)\n"
   ]
  },
  {
   "cell_type": "markdown",
   "id": "89e4170c",
   "metadata": {},
   "source": [
    "**Post-Initialization via __post_init__ (in dataclasses)**\n",
    "You can also use the __post_init__ method to perform additional initialization after the object has been created. This method is available when using the dataclasses module:\n",
    "dataclasses automatically create __init__, __repr__, etc., for you.\n",
    "__post_init__ runs after __init__ in dataclasses.\n",
    "\n",
    "Good for validation, calculation, etc."
   ]
  },
  {
   "cell_type": "code",
   "execution_count": null,
   "id": "6ec05d71",
   "metadata": {},
   "outputs": [],
   "source": [
    "from dataclasses import dataclass\n",
    "\n",
    "@dataclass\n",
    "class Person:\n",
    "    name: str\n",
    "    age: int\n",
    "\n",
    "p = Person(\"Alice\", 30)\n",
    "print(p)  # Person(name='Alice', age=30)\n"
   ]
  },
  {
   "cell_type": "markdown",
   "id": "e080e12d",
   "metadata": {},
   "source": [
    "**Instance & Class Methods**\n",
    "a class is a blueprint for creating objects. These objects, also known as instances, have their own set of attributes (data) and methods (functions)\n"
   ]
  },
  {
   "cell_type": "markdown",
   "id": "56976230",
   "metadata": {},
   "source": [
    "**Using self**\n",
    "self represents the instance (object) of the class.\n",
    "\n",
    "It is automatically passed to instance methods to access or modify object\n"
   ]
  },
  {
   "cell_type": "code",
   "execution_count": 1,
   "id": "04d76654",
   "metadata": {},
   "outputs": [
    {
     "name": "stdout",
     "output_type": "stream",
     "text": [
      "Hello, my name is John!\n"
     ]
    }
   ],
   "source": [
    "class MyClass:\n",
    "    def __init__(self, name):\n",
    "        self.name = name\n",
    "\n",
    "    def greet(self):\n",
    "        print(f\"Hello, my name is {self.name}!\")\n",
    "\n",
    "obj = MyClass(\"John\")\n",
    "obj.greet()  # Output: Hello, my name is John!"
   ]
  },
  {
   "cell_type": "markdown",
   "id": "e0d708b9",
   "metadata": {},
   "source": [
    "**Defining Instance Methods**\n",
    "A method that operates on an instance of the class.\n",
    "\n",
    "It takes self as the first parameter, which refers to the instance calling the method."
   ]
  },
  {
   "cell_type": "code",
   "execution_count": 3,
   "id": "efbc5e96",
   "metadata": {},
   "outputs": [
    {
     "name": "stdout",
     "output_type": "stream",
     "text": [
      "Hello, my name is Jane!\n"
     ]
    }
   ],
   "source": [
    "class MyClass:\n",
    "    def __init__(self, name):\n",
    "        self.name = name\n",
    "\n",
    "    def say_hello(self):\n",
    "        print(f\"Hello, my name is {self.name}!\")\n",
    "\n",
    "obj = MyClass(\"Jane\")\n",
    "obj.say_hello()  # Output: Hello, my name is Jane!"
   ]
  },
  {
   "cell_type": "markdown",
   "id": "7d5cc2d1",
   "metadata": {},
   "source": [
    "**Class Methods**\n",
    "A method that operates on the class itself, not on instances. It takes cls as the first parameter.Decorated with @classmethod. Access or modify class-level data.lternative constructors."
   ]
  },
  {
   "cell_type": "code",
   "execution_count": null,
   "id": "4c2c53b3",
   "metadata": {},
   "outputs": [],
   "source": [
    "class MyClass:\n",
    "    count = 0\n",
    "\n",
    "    def __init__(self, name):\n",
    "        self.name = name\n",
    "        MyClass.count += 1\n",
    "\n",
    "    @classmethod\n",
    "    def get_count(cls):\n",
    "        return cls.count\n",
    "\n",
    "obj1 = MyClass(\"John\")\n",
    "obj2 = MyClass(\"Jane\")\n",
    "\n",
    "print(MyClass.get_count())  # Output: 2"
   ]
  },
  {
   "cell_type": "markdown",
   "id": "8cf82c60",
   "metadata": {},
   "source": [
    "**Static Methods**\n",
    "\n",
    "A method that doesn't operate on instance or class.It doesn't take self or cls as a parameter. Decorated with @staticmethod.\n"
   ]
  },
  {
   "cell_type": "code",
   "execution_count": null,
   "id": "38ac36cf",
   "metadata": {},
   "outputs": [],
   "source": [
    "class MyClass:\n",
    "    @staticmethod\n",
    "    def add(a, b):\n",
    "        return a + b\n",
    "\n",
    "print(MyClass.add(2, 3))  # Output: 5"
   ]
  },
  {
   "cell_type": "markdown",
   "id": "cc02f5a8",
   "metadata": {},
   "source": [
    "**Class Variables vs Instance Variables**\n",
    "Class variables are shared by all instances of a class, whereas instance variables are unique to each instance."
   ]
  },
  {
   "cell_type": "code",
   "execution_count": 1,
   "id": "a53e59cc",
   "metadata": {},
   "outputs": [],
   "source": [
    "class Employee:\n",
    "    company = \"OpenAI\"   # Class variable\n",
    "\n",
    "    def __init__(self, name):\n",
    "        self.name = name  # Instance variable\n",
    "\n",
    "emp1 = Employee(\"John\")\n",
    "emp2 = Employee(\"Jane\")\n",
    "\n",
    "\n"
   ]
  },
  {
   "cell_type": "markdown",
   "id": "82c8451d",
   "metadata": {},
   "source": [
    "**Inheritance and Polymorphism in Python**\n",
    "Inheritance :Inheritance means one class can use the features of another class without rewriting the same code.\n"
   ]
  },
  {
   "cell_type": "code",
   "execution_count": 7,
   "id": "8e6ec424",
   "metadata": {},
   "outputs": [
    {
     "name": "stdout",
     "output_type": "stream",
     "text": [
      "Vehicle is moving\n",
      "Car is honking\n"
     ]
    }
   ],
   "source": [
    "class Vehicle:  # Parent class\n",
    "    def move(self):\n",
    "        print(\"Vehicle is moving\")\n",
    "\n",
    "class Car(Vehicle):  # Child class\n",
    "    def honk(self):\n",
    "        print(\"Car is honking\")\n",
    "\n",
    "my_car = Car()\n",
    "my_car.move()  # Inherited from Vehicle\n",
    "my_car.honk()  # Defined in Car"
   ]
  },
  {
   "cell_type": "markdown",
   "id": "b6ff6df7",
   "metadata": {},
   "source": [
    "Polymorphism means \"many forms\". In OOP, it refers to the ability to call the same method on different objects and get different results.\n",
    "\n",
    "This works through method overriding and interface-based programming."
   ]
  },
  {
   "cell_type": "markdown",
   "id": "dd4b8cdd",
   "metadata": {},
   "source": [
    "**Extending a Class**\n",
    "When a child class inherits from a parent class, it can:Access the parent class’s attributes and methods.Add its own attributes and methods.Override existing ones."
   ]
  },
  {
   "cell_type": "code",
   "execution_count": null,
   "id": "4e35f731",
   "metadata": {},
   "outputs": [],
   "source": [
    "class Animal:\n",
    "    def speak(self):\n",
    "        return \"Some sound\"\n",
    "\n",
    "class Dog(Animal):  # Extending Animal\n",
    "    def bark(self):\n",
    "        return \"Woof\"\n",
    "\n",
    "my_dog = Dog()\n",
    "print(my_dog.speak())  # Output: Some sound\n",
    "print(my_dog.bark())   # Output: Woof"
   ]
  },
  {
   "cell_type": "markdown",
   "id": "0fce1061",
   "metadata": {},
   "source": [
    "**Overriding Methods**\n",
    "A child class can provide its own implementation of a method that is already defined in the parent class. This is called method overriding."
   ]
  },
  {
   "cell_type": "code",
   "execution_count": null,
   "id": "97a54a32",
   "metadata": {},
   "outputs": [],
   "source": [
    "class Animal:\n",
    "    def speak(self):\n",
    "        return \"Some sound\"\n",
    "\n",
    "class Cat(Animal):\n",
    "    def speak(self):\n",
    "        return \"Meow\"  # Overrides Animal.speak()\n",
    "\n",
    "my_cat = Cat()\n",
    "print(my_cat.speak())  # Output: Meow\n"
   ]
  },
  {
   "cell_type": "markdown",
   "id": "5df79e84",
   "metadata": {},
   "source": [
    "**MULTIPLE INHERITANCE**:\n",
    "Python supports multiple inheritance, where a class can inherit from more than one parent class.\n"
   ]
  },
  {
   "cell_type": "code",
   "execution_count": 2,
   "id": "fae09d35",
   "metadata": {},
   "outputs": [
    {
     "name": "stdout",
     "output_type": "stream",
     "text": [
      "Method from Parent1\n",
      "Method from Parent2\n"
     ]
    }
   ],
   "source": [
    "class Parent1:\n",
    "    def method1(self):\n",
    "        return \"Method from Parent1\"\n",
    "\n",
    "class Parent2:\n",
    "    def method2(self):\n",
    "        return \"Method from Parent2\"\n",
    "\n",
    "class Child(Parent1, Parent2):\n",
    "    pass\n",
    "c = Child()\n",
    "print(c.method1())  # From Parent1\n",
    "print(c.method2())  # From Parent2\n"
   ]
  },
  {
   "cell_type": "markdown",
   "id": "24e53223",
   "metadata": {},
   "source": [
    "**ABSTRACT BASE CLASSES (abc module)**\n",
    "Sometimes, you want to define a blueprint for other classes. This is where Abstract Base Classes (ABCs) come in. You define abstract methods that must be implemented by derived classes.\n",
    "\n",
    "IMport method\n",
    "from abc import ABC, abstractmethod"
   ]
  },
  {
   "cell_type": "code",
   "execution_count": null,
   "id": "c26ff547",
   "metadata": {},
   "outputs": [],
   "source": [
    "from abc import ABC, abstractmethod\n",
    "\n",
    "class Shape(ABC):\n",
    "    @abstractmethod\n",
    "    def area(self):\n",
    "        pass\n",
    "\n",
    "class Rectangle(Shape):\n",
    "    def __init__(self, width, height):\n",
    "        self.width = width\n",
    "        self.height = height\n",
    "\n",
    "    def area(self):\n",
    "        return self.width * self.height\n",
    "s = Shape()  #  TypeError\n",
    "r = Rectangle(10, 5)\n",
    "print(r.area())  #  Outputs 50\n",
    "\n"
   ]
  }
 ],
 "metadata": {
  "kernelspec": {
   "display_name": "Python 3",
   "language": "python",
   "name": "python3"
  },
  "language_info": {
   "codemirror_mode": {
    "name": "ipython",
    "version": 3
   },
   "file_extension": ".py",
   "mimetype": "text/x-python",
   "name": "python",
   "nbconvert_exporter": "python",
   "pygments_lexer": "ipython3",
   "version": "3.13.3"
  }
 },
 "nbformat": 4,
 "nbformat_minor": 5
}
